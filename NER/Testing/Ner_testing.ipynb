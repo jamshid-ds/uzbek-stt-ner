{
  "nbformat": 4,
  "nbformat_minor": 0,
  "metadata": {
    "colab": {
      "provenance": [],
      "gpuType": "T4"
    },
    "kernelspec": {
      "name": "python3",
      "display_name": "Python 3"
    },
    "language_info": {
      "name": "python"
    },
    "accelerator": "GPU"
  },
  "cells": [
    {
      "cell_type": "code",
      "source": [
        "from transformers import pipeline\n",
        "\n",
        "ner_pipeline = pipeline('ner', model='jamshidahmadov/roberta-ner-uz', tokenizer='jamshidahmadov/roberta-ner-uz')"
      ],
      "metadata": {
        "id": "vDoh7v91Z79T"
      },
      "execution_count": null,
      "outputs": []
    },
    {
      "cell_type": "code",
      "source": [
        "text = \"Toshkent shahrida yangi o'zgarishlar bo'lmoqda.\"\n",
        "entities = ner_pipeline(text)"
      ],
      "metadata": {
        "id": "qpbuAfXrAl7E"
      },
      "execution_count": 8,
      "outputs": []
    },
    {
      "cell_type": "code",
      "source": [
        "for entity in entities:\n",
        "    print(entity)"
      ],
      "metadata": {
        "colab": {
          "base_uri": "https://localhost:8080/"
        },
        "id": "hbvUTaUFAE_d",
        "outputId": "4ec4c4a9-c48b-4e41-d887-6f3712467f76"
      },
      "execution_count": 9,
      "outputs": [
        {
          "output_type": "stream",
          "name": "stdout",
          "text": [
            "{'entity': 'LABEL_0', 'score': 0.18035683, 'index': 1, 'word': 'Toshkent', 'start': 0, 'end': 8}\n",
            "{'entity': 'LABEL_0', 'score': 0.16875376, 'index': 2, 'word': 'shahrida', 'start': 9, 'end': 17}\n",
            "{'entity': 'LABEL_9', 'score': 0.19252375, 'index': 3, 'word': 'yangi', 'start': 18, 'end': 23}\n",
            "{'entity': 'LABEL_9', 'score': 0.22089224, 'index': 4, 'word': \"o'zgarishlar\", 'start': 24, 'end': 36}\n",
            "{'entity': 'LABEL_9', 'score': 0.23450726, 'index': 5, 'word': \"bo'lmoqda.\", 'start': 37, 'end': 47}\n"
          ]
        }
      ]
    },
    {
      "cell_type": "code",
      "source": [],
      "metadata": {
        "id": "zzPcy5SM8aRY"
      },
      "execution_count": null,
      "outputs": []
    }
  ]
}