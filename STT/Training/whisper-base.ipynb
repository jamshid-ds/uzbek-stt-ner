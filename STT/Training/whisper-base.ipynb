{
 "cells": [
  {
   "cell_type": "markdown",
   "metadata": {
    "id": "55fb8d21-df06-472a-99dd-b59567be6dad"
   },
   "source": [
    "## Prepare Environment"
   ]
  },
  {
   "cell_type": "markdown",
   "metadata": {
    "id": "844a4861-929c-4762-b29b-80b1e95aba4b"
   },
   "source": [
    "Birinchi navbatda bizga yetarli darajada kuchli bo'lgan GPU kerak bo'ladi va biz Kagglening gpusidan foydalanamiz\n"
   ]
  },
  {
   "cell_type": "markdown",
   "metadata": {
    "id": "9abea5d7-9d54-434b-a6bd-399d1b3c6c1a"
   },
   "source": [
    "Bizdagi GPU ishlayotganini tekshiramiz"
   ]
  },
  {
   "cell_type": "code",
   "execution_count": 1,
   "metadata": {
    "execution": {
     "iopub.execute_input": "2024-12-16T19:35:26.897727Z",
     "iopub.status.busy": "2024-12-16T19:35:26.897200Z",
     "iopub.status.idle": "2024-12-16T19:35:26.980272Z",
     "shell.execute_reply": "2024-12-16T19:35:26.979391Z",
     "shell.execute_reply.started": "2024-12-16T19:35:26.897681Z"
    },
    "id": "95048026-a3b7-43f0-a274-1bad65e407b4",
    "outputId": "8d29e28c-1ba5-4bc0-f510-db43aaeee0d2",
    "trusted": true
   },
   "outputs": [
    {
     "name": "stdout",
     "output_type": "stream",
     "text": [
      "Mon Dec 16 19:35:26 2024       \n",
      "+-----------------------------------------------------------------------------------------+\n",
      "| NVIDIA-SMI 560.35.03              Driver Version: 560.35.03      CUDA Version: 12.6     |\n",
      "|-----------------------------------------+------------------------+----------------------+\n",
      "| GPU  Name                 Persistence-M | Bus-Id          Disp.A | Volatile Uncorr. ECC |\n",
      "| Fan  Temp   Perf          Pwr:Usage/Cap |           Memory-Usage | GPU-Util  Compute M. |\n",
      "|                                         |                        |               MIG M. |\n",
      "|=========================================+========================+======================|\n",
      "|   0  Tesla P100-PCIE-16GB           Off |   00000000:00:04.0 Off |                    0 |\n",
      "| N/A   39C    P0             27W /  250W |       0MiB /  16384MiB |      0%      Default |\n",
      "|                                         |                        |                  N/A |\n",
      "+-----------------------------------------+------------------------+----------------------+\n",
      "                                                                                         \n",
      "+-----------------------------------------------------------------------------------------+\n",
      "| Processes:                                                                              |\n",
      "|  GPU   GI   CI        PID   Type   Process name                              GPU Memory |\n",
      "|        ID   ID                                                               Usage      |\n",
      "|=========================================================================================|\n",
      "|  No running processes found                                                             |\n",
      "+-----------------------------------------------------------------------------------------+\n"
     ]
    }
   ],
   "source": [
    "gpu_info = !nvidia-smi\n",
    "gpu_info = '\\n'.join(gpu_info)\n",
    "if gpu_info.find('failed') >= 0:\n",
    "  print('Not connected to a GPU')\n",
    "else:\n",
    "  print(gpu_info)"
   ]
  },
  {
   "cell_type": "markdown",
   "metadata": {
    "id": "1d85d613-1c7e-46ac-9134-660bbe7ebc9d"
   },
   "source": [
    "Biz Whisper modelini fine-tune qilish uchun bir nechta mashhur Python paketlaridan foydalanamiz. datasets[audio] yordamida trening ma'lumotlarini yuklab olib tayyorlaymiz, transformers va accelerate paketlari yordamida modelni yuklab olib o'rgatamiz. Shuningdek, audio fayllarni oldindan ishlov berish uchun soundfile, modelning samaradorligini baholash uchun evaluate va jiwer, metrikalarni yozib borish uchun esa tensorboard paketlaridan foydalanamiz."
   ]
  },
  {
   "cell_type": "code",
   "execution_count": 2,
   "metadata": {
    "execution": {
     "iopub.execute_input": "2024-12-16T19:35:28.292174Z",
     "iopub.status.busy": "2024-12-16T19:35:28.291849Z",
     "iopub.status.idle": "2024-12-16T19:36:14.682757Z",
     "shell.execute_reply": "2024-12-16T19:36:14.681851Z",
     "shell.execute_reply.started": "2024-12-16T19:35:28.292132Z"
    },
    "id": "e68ea9f8-9b61-414e-8885-3033b67c2850",
    "outputId": "3bc53fc9-7d78-4e17-ea95-4b5cfe61c2e5",
    "trusted": true
   },
   "outputs": [
    {
     "name": "stdout",
     "output_type": "stream",
     "text": [
      "\u001b[31mERROR: pip's dependency resolver does not currently take into account all the packages that are installed. This behaviour is the source of the following dependency conflicts.\n",
      "tensorflow 2.16.1 requires tensorboard<2.17,>=2.16, but you have tensorboard 2.18.0 which is incompatible.\u001b[0m\u001b[31m\n",
      "\u001b[0m"
     ]
    }
   ],
   "source": [
    "!pip install --upgrade --quiet pip\n",
    "!pip install --upgrade --quiet datasets[audio] transformers accelerate evaluate jiwer tensorboard gradio"
   ]
  },
  {
   "cell_type": "markdown",
   "metadata": {
    "id": "1f60d173-8de1-4ed7-bc9a-d281cf237203"
   },
   "source": [
    "Bizdan Huggingfacega kirish talab qilinadi"
   ]
  },
  {
   "cell_type": "code",
   "execution_count": 3,
   "metadata": {
    "colab": {
     "referenced_widgets": [
      "34fe553b6a24495bb995452fc431a8c6"
     ]
    },
    "execution": {
     "iopub.execute_input": "2024-12-16T19:36:14.684682Z",
     "iopub.status.busy": "2024-12-16T19:36:14.684406Z",
     "iopub.status.idle": "2024-12-16T19:36:14.950329Z",
     "shell.execute_reply": "2024-12-16T19:36:14.949439Z",
     "shell.execute_reply.started": "2024-12-16T19:36:14.684655Z"
    },
    "id": "b045a39e-2a3e-4153-bdb5-281500bcd348",
    "outputId": "9ea1a6c5-5a1d-4cae-a064-db1733340897",
    "trusted": true
   },
   "outputs": [
    {
     "data": {
      "application/vnd.jupyter.widget-view+json": {
       "model_id": "db20c994812646ffb5aedeec57dccb46",
       "version_major": 2,
       "version_minor": 0
      },
      "text/plain": [
       "VBox(children=(HTML(value='<center> <img\\nsrc=https://huggingface.co/front/assets/huggingface_logo-noborder.sv…"
      ]
     },
     "metadata": {},
     "output_type": "display_data"
    }
   ],
   "source": [
    "from huggingface_hub import notebook_login\n",
    "\n",
    "notebook_login()"
   ]
  },
  {
   "cell_type": "markdown",
   "metadata": {
    "id": "b219c9dd-39b6-4a95-b2a1-3f547a1e7bc0"
   },
   "source": [
    "### Load Dataset"
   ]
  },
  {
   "cell_type": "markdown",
   "metadata": {
    "id": "674429c5-0ab4-4adf-975b-621bb69eca38"
   },
   "source": [
    "Birinchi muhim qadam sifatida biz kerakli datasetni yuklab olishimiz kerak bo'ladi, Biz  DavronSherbaev/uzbekvoice-filtered datasetini ishlatamiz (O'zbek tilida)\n",
    "\n",
    "Dataset ancha katta, shuning uchun biz uning bir qismidan foydalanamiz"
   ]
  },
  {
   "cell_type": "code",
   "execution_count": null,
   "metadata": {
    "execution": {
     "iopub.execute_input": "2024-12-16T19:36:47.997693Z",
     "iopub.status.busy": "2024-12-16T19:36:47.996768Z",
     "iopub.status.idle": "2024-12-16T19:43:25.484746Z",
     "shell.execute_reply": "2024-12-16T19:43:25.483957Z",
     "shell.execute_reply.started": "2024-12-16T19:36:47.997656Z"
    },
    "id": "oI7QGGx5AAM4",
    "trusted": true
   },
   "outputs": [],
   "source": [
    "from datasets import load_dataset, DatasetDict\n",
    "\n",
    "common_voice = DatasetDict()\n",
    "\n",
    "common_voice[\"train\"] = load_dataset(\"DavronSherbaev/uzbekvoice-filtered\", split=\"train[35000:49000]\")\n",
    "common_voice[\"test\"] = load_dataset(\"DavronSherbaev/uzbekvoice-filtered\", split=\"train[49000:50000]\")\n",
    "\n",
    "print(common_voice)"
   ]
  },
  {
   "cell_type": "markdown",
   "metadata": {
    "id": "d5c7c3d6-7197-41e7-a088-49b753c1681f"
   },
   "source": [
    "Biz o'zimizga kerakli bo'lgan ma'lumotlarnigina qoldiramiz"
   ]
  },
  {
   "cell_type": "code",
   "execution_count": 5,
   "metadata": {
    "execution": {
     "iopub.execute_input": "2024-12-16T19:49:59.619859Z",
     "iopub.status.busy": "2024-12-16T19:49:59.619007Z",
     "iopub.status.idle": "2024-12-16T19:49:59.632930Z",
     "shell.execute_reply": "2024-12-16T19:49:59.632217Z",
     "shell.execute_reply.started": "2024-12-16T19:49:59.619823Z"
    },
    "id": "JUCyXMJbAAM4",
    "trusted": true
   },
   "outputs": [
    {
     "name": "stdout",
     "output_type": "stream",
     "text": [
      "DatasetDict({\n",
      "    train: Dataset({\n",
      "        features: ['path', 'text'],\n",
      "        num_rows: 14000\n",
      "    })\n",
      "    test: Dataset({\n",
      "        features: ['path', 'text'],\n",
      "        num_rows: 1000\n",
      "    })\n",
      "})\n"
     ]
    }
   ],
   "source": [
    "common_voice = common_voice.remove_columns(['previous_text', 'id', 'client_id', 'duration', 'sentence', 'created_at', 'original_sentence_id', 'sentence_clips_count', 'upvotes_count', 'downvotes_count', 'reported_count', 'reported_reasons', 'skipped_clips', 'gender', 'accent_region', 'native_language', 'year_of_birth'])\n",
    "\n",
    "print(common_voice)"
   ]
  },
  {
   "cell_type": "code",
   "execution_count": 6,
   "metadata": {
    "execution": {
     "iopub.execute_input": "2024-12-16T19:49:59.762606Z",
     "iopub.status.busy": "2024-12-16T19:49:59.762301Z",
     "iopub.status.idle": "2024-12-16T19:49:59.781358Z",
     "shell.execute_reply": "2024-12-16T19:49:59.780596Z",
     "shell.execute_reply.started": "2024-12-16T19:49:59.762578Z"
    },
    "trusted": true
   },
   "outputs": [],
   "source": [
    "common_voice[\"train\"] = common_voice[\"train\"].shuffle(seed=42)\n",
    "common_voice[\"test\"] = common_voice[\"test\"].shuffle(seed=42)"
   ]
  },
  {
   "cell_type": "markdown",
   "metadata": {
    "id": "2d63b2d2-f68a-4d74-b7f1-5127f6d16605"
   },
   "source": [
    "## Prepare Feature Extractor, Tokenizer and Data"
   ]
  },
  {
   "cell_type": "markdown",
   "metadata": {
    "id": "601c3099-1026-439e-93e2-5635b3ba5a73"
   },
   "source": [
    "\n",
    "Jarayoni uch bosqichga bo'linadi:\n",
    "\n",
    "- Xom audio ma'lumotlarni oldindan ishlovchi **feature extractor**.\n",
    "- Ma'lumotni ketma-ketlikka moslovchi **model**.\n",
    "- Model chiqishlarini matn formatiga o'tkazuvchi **tokenizer**.\n",
    "\n",
    "Transformers kutubxonasida Whisper modeli uchun maxsus WhisperFeatureExtractor va WhisperTokenizer mavjud."
   ]
  },
  {
   "cell_type": "markdown",
   "metadata": {
    "id": "560332eb-3558-41a1-b500-e83a9f695f84"
   },
   "source": [
    "### Load WhisperFeatureExtractor"
   ]
  },
  {
   "cell_type": "code",
   "execution_count": 7,
   "metadata": {
    "colab": {
     "referenced_widgets": [
      "a583c96d408d41ceb5ba2a856c17ad7a"
     ]
    },
    "execution": {
     "iopub.execute_input": "2024-12-16T19:50:01.681071Z",
     "iopub.status.busy": "2024-12-16T19:50:01.680452Z",
     "iopub.status.idle": "2024-12-16T19:50:04.965357Z",
     "shell.execute_reply": "2024-12-16T19:50:04.964518Z",
     "shell.execute_reply.started": "2024-12-16T19:50:01.681036Z"
    },
    "id": "gxpyhU5WAAM5",
    "outputId": "31a1889f-1b7b-4141-a471-3fa0b56571e5",
    "trusted": true
   },
   "outputs": [
    {
     "name": "stderr",
     "output_type": "stream",
     "text": [
      "The cache for model files in Transformers v4.22.0 has been updated. Migrating your old cache. This is a one-time only operation. You can interrupt this and resume the migration later on by calling `transformers.utils.move_cache()`.\n"
     ]
    },
    {
     "data": {
      "application/vnd.jupyter.widget-view+json": {
       "model_id": "24314a32e39a46edaba4cfbfe919dcd3",
       "version_major": 2,
       "version_minor": 0
      },
      "text/plain": [
       "0it [00:00, ?it/s]"
      ]
     },
     "metadata": {},
     "output_type": "display_data"
    },
    {
     "data": {
      "application/vnd.jupyter.widget-view+json": {
       "model_id": "b054b36b9f074f6fb3763bb15e140177",
       "version_major": 2,
       "version_minor": 0
      },
      "text/plain": [
       "0it [00:00, ?it/s]"
      ]
     },
     "metadata": {},
     "output_type": "display_data"
    }
   ],
   "source": [
    "import transformers\n",
    "transformers.utils.move_cache()"
   ]
  },
  {
   "cell_type": "code",
   "execution_count": 8,
   "metadata": {
    "colab": {
     "referenced_widgets": [
      "abf4d1454deb4222af1592a7db4f295c"
     ]
    },
    "execution": {
     "iopub.execute_input": "2024-12-16T19:50:04.967328Z",
     "iopub.status.busy": "2024-12-16T19:50:04.966875Z",
     "iopub.status.idle": "2024-12-16T19:50:05.538273Z",
     "shell.execute_reply": "2024-12-16T19:50:05.537363Z",
     "shell.execute_reply.started": "2024-12-16T19:50:04.967300Z"
    },
    "id": "bc77d7bb-f9e2-47f5-b663-30f7a4321ce5",
    "outputId": "1b9e7c18-2756-4f12-8e09-4b06cd61de5e",
    "trusted": true
   },
   "outputs": [
    {
     "data": {
      "application/vnd.jupyter.widget-view+json": {
       "model_id": "f638925fc4fb4c8e9c0361e14d85d903",
       "version_major": 2,
       "version_minor": 0
      },
      "text/plain": [
       "preprocessor_config.json:   0%|          | 0.00/185k [00:00<?, ?B/s]"
      ]
     },
     "metadata": {},
     "output_type": "display_data"
    }
   ],
   "source": [
    "from transformers import WhisperFeatureExtractor\n",
    "\n",
    "feature_extractor = WhisperFeatureExtractor.from_pretrained(\"openai/whisper-base\")"
   ]
  },
  {
   "cell_type": "markdown",
   "metadata": {
    "id": "93748af7-b917-4ecf-a0c8-7d89077ff9cb"
   },
   "source": [
    "### Load WhisperTokenizer"
   ]
  },
  {
   "cell_type": "code",
   "execution_count": 9,
   "metadata": {
    "colab": {
     "referenced_widgets": [
      "a91d35ca733d46c69e1650181e06b081",
      "4d90c9740f12455a8d98ec24a4177bfd",
      "f9ce891e53cd4332997729e1dd4c79b2",
      "b4d32773246a45e4a21d1ebbb0322d3f",
      "a4021a8fab4e4a4ebb29b44503445b4c",
      "e18f74202a794f5fb42c860d62465136",
      "7ebfb5e5cb414132abf0fb25ca64c2df"
     ]
    },
    "execution": {
     "iopub.execute_input": "2024-12-16T19:50:13.618804Z",
     "iopub.status.busy": "2024-12-16T19:50:13.618133Z",
     "iopub.status.idle": "2024-12-16T19:50:14.943159Z",
     "shell.execute_reply": "2024-12-16T19:50:14.942457Z",
     "shell.execute_reply.started": "2024-12-16T19:50:13.618769Z"
    },
    "id": "c7b07f9b-ae0e-4f89-98f0-0c50d432eab6",
    "outputId": "1d8e0ffc-9600-47a3-936e-17b75a99adc3",
    "trusted": true
   },
   "outputs": [
    {
     "data": {
      "application/vnd.jupyter.widget-view+json": {
       "model_id": "5ad9c01b0c4e405490d4827c895be935",
       "version_major": 2,
       "version_minor": 0
      },
      "text/plain": [
       "tokenizer_config.json:   0%|          | 0.00/283k [00:00<?, ?B/s]"
      ]
     },
     "metadata": {},
     "output_type": "display_data"
    },
    {
     "data": {
      "application/vnd.jupyter.widget-view+json": {
       "model_id": "654d3fd5a3f248459e9b00244060b8f2",
       "version_major": 2,
       "version_minor": 0
      },
      "text/plain": [
       "vocab.json:   0%|          | 0.00/836k [00:00<?, ?B/s]"
      ]
     },
     "metadata": {},
     "output_type": "display_data"
    },
    {
     "data": {
      "application/vnd.jupyter.widget-view+json": {
       "model_id": "7adc68648da74f9684fb8777f430f134",
       "version_major": 2,
       "version_minor": 0
      },
      "text/plain": [
       "tokenizer.json:   0%|          | 0.00/2.48M [00:00<?, ?B/s]"
      ]
     },
     "metadata": {},
     "output_type": "display_data"
    },
    {
     "data": {
      "application/vnd.jupyter.widget-view+json": {
       "model_id": "dafb4b00624b407cb90151c306923de2",
       "version_major": 2,
       "version_minor": 0
      },
      "text/plain": [
       "merges.txt:   0%|          | 0.00/494k [00:00<?, ?B/s]"
      ]
     },
     "metadata": {},
     "output_type": "display_data"
    },
    {
     "data": {
      "application/vnd.jupyter.widget-view+json": {
       "model_id": "b546acd3c826455b80fcd24cb12a8e8f",
       "version_major": 2,
       "version_minor": 0
      },
      "text/plain": [
       "normalizer.json:   0%|          | 0.00/52.7k [00:00<?, ?B/s]"
      ]
     },
     "metadata": {},
     "output_type": "display_data"
    },
    {
     "data": {
      "application/vnd.jupyter.widget-view+json": {
       "model_id": "5950a69f9e944e909cdd6a9995368cf2",
       "version_major": 2,
       "version_minor": 0
      },
      "text/plain": [
       "added_tokens.json:   0%|          | 0.00/34.6k [00:00<?, ?B/s]"
      ]
     },
     "metadata": {},
     "output_type": "display_data"
    },
    {
     "data": {
      "application/vnd.jupyter.widget-view+json": {
       "model_id": "bf1f70daf11a41f18986d6cdcde5412d",
       "version_major": 2,
       "version_minor": 0
      },
      "text/plain": [
       "special_tokens_map.json:   0%|          | 0.00/2.19k [00:00<?, ?B/s]"
      ]
     },
     "metadata": {},
     "output_type": "display_data"
    }
   ],
   "source": [
    "from transformers import WhisperTokenizer\n",
    "\n",
    "tokenizer = WhisperTokenizer.from_pretrained(\"openai/whisper-base\", language=\"uzbek\", task=\"transcribe\")"
   ]
  },
  {
   "cell_type": "markdown",
   "metadata": {
    "id": "d2ef23f3-f4a8-483a-a2dc-080a7496cb1b"
   },
   "source": [
    "### Combine To Create A WhisperProcessor"
   ]
  },
  {
   "cell_type": "code",
   "execution_count": 10,
   "metadata": {
    "execution": {
     "iopub.execute_input": "2024-12-16T19:50:16.276711Z",
     "iopub.status.busy": "2024-12-16T19:50:16.275984Z",
     "iopub.status.idle": "2024-12-16T19:50:18.382274Z",
     "shell.execute_reply": "2024-12-16T19:50:18.381516Z",
     "shell.execute_reply.started": "2024-12-16T19:50:16.276676Z"
    },
    "id": "77d9f0c5-8607-4642-a8ac-c3ab2e223ea6",
    "trusted": true
   },
   "outputs": [],
   "source": [
    "from transformers import WhisperProcessor\n",
    "\n",
    "processor = WhisperProcessor.from_pretrained(\"openai/whisper-base\", language=\"uzbek\", task=\"transcribe\")"
   ]
  },
  {
   "cell_type": "markdown",
   "metadata": {
    "id": "381acd09-0b0f-4d04-9eb3-f028ac0e5f2c"
   },
   "source": [
    "### Prepare Data"
   ]
  },
  {
   "cell_type": "markdown",
   "metadata": {
    "id": "9649bf01-2e8a-45e5-8fca-441c13637b8f"
   },
   "source": [
    "Navbat ma'lumotlarni tozalash qismiga, keling avval datasetdan bir ma'lumotni ko'raylik"
   ]
  },
  {
   "cell_type": "code",
   "execution_count": 11,
   "metadata": {
    "execution": {
     "iopub.execute_input": "2024-12-16T19:50:18.404481Z",
     "iopub.status.busy": "2024-12-16T19:50:18.403591Z",
     "iopub.status.idle": "2024-12-16T19:50:29.883811Z",
     "shell.execute_reply": "2024-12-16T19:50:29.882825Z",
     "shell.execute_reply.started": "2024-12-16T19:50:18.404450Z"
    },
    "id": "6e6b0ec5-0c94-4e2c-ae24-c791be1b2255",
    "outputId": "0b880878-12ed-4602-eb25-f81f2105b5b8",
    "trusted": true
   },
   "outputs": [
    {
     "name": "stdout",
     "output_type": "stream",
     "text": [
      "{'path': {'path': '8ca20577ac5da729fa47cfe02ae2f417600926f8d7f28aeaae65ad95609dfe2d.mp3', 'array': array([ 0.00000000e+00,  0.00000000e+00,  0.00000000e+00, ...,\n",
      "       -4.92353138e-05, -1.93961518e-04, -2.06655124e-04]), 'sampling_rate': 16000}, 'text': \"Hozirda O'zbekiston ham ular qatorida.\"}\n"
     ]
    }
   ],
   "source": [
    "print(common_voice[\"train\"][0])"
   ]
  },
  {
   "cell_type": "markdown",
   "metadata": {
    "id": "5a679f05-063d-41b3-9b58-4fc9c6ccf4fd"
   },
   "source": [
    "`cast_column` metodida foydalanamiz va audioning `sampling_rate`ini o'zgaritishimiz kerak, chunki whisper modeli 16 kHz ma'lumot uchun ishlay oladi"
   ]
  },
  {
   "cell_type": "code",
   "execution_count": 12,
   "metadata": {
    "execution": {
     "iopub.execute_input": "2024-12-16T19:50:29.885737Z",
     "iopub.status.busy": "2024-12-16T19:50:29.885241Z",
     "iopub.status.idle": "2024-12-16T19:50:29.897865Z",
     "shell.execute_reply": "2024-12-16T19:50:29.897050Z",
     "shell.execute_reply.started": "2024-12-16T19:50:29.885706Z"
    },
    "id": "f12e2e57-156f-417b-8cfb-69221cc198e8",
    "trusted": true
   },
   "outputs": [],
   "source": [
    "from datasets import Audio\n",
    "\n",
    "common_voice = common_voice.cast_column(\"path\", Audio(sampling_rate=16000))"
   ]
  },
  {
   "cell_type": "markdown",
   "metadata": {
    "id": "00382a3e-abec-4cdd-a54c-d1aaa3ea4707"
   },
   "source": [
    "Keling endi shu ma'lumotni qayta ko'ramiz"
   ]
  },
  {
   "cell_type": "code",
   "execution_count": 13,
   "metadata": {
    "execution": {
     "iopub.execute_input": "2024-12-16T19:50:29.899352Z",
     "iopub.status.busy": "2024-12-16T19:50:29.899020Z",
     "iopub.status.idle": "2024-12-16T19:50:29.910700Z",
     "shell.execute_reply": "2024-12-16T19:50:29.909936Z",
     "shell.execute_reply.started": "2024-12-16T19:50:29.899283Z"
    },
    "id": "hD1pZBtgAAM6",
    "outputId": "47397f5d-f246-465e-da70-3712cb29b891",
    "trusted": true
   },
   "outputs": [
    {
     "name": "stdout",
     "output_type": "stream",
     "text": [
      "{'path': {'path': '8ca20577ac5da729fa47cfe02ae2f417600926f8d7f28aeaae65ad95609dfe2d.mp3', 'array': array([ 0.00000000e+00,  0.00000000e+00,  0.00000000e+00, ...,\n",
      "       -4.92353138e-05, -1.93961518e-04, -2.06655124e-04]), 'sampling_rate': 16000}, 'text': \"Hozirda O'zbekiston ham ular qatorida.\"}\n"
     ]
    }
   ],
   "source": [
    "print(common_voice[\"train\"][0])"
   ]
  },
  {
   "cell_type": "markdown",
   "metadata": {
    "id": "91edc72d-08f8-4f01-899d-74e65ce441fc"
   },
   "source": [
    "Model uchun ma'lumot tayyorlash:\n",
    "\n",
    "- Audio yuklanadi va qayta namuna olinadi.\n",
    "- Log-Mel spektrogram xususiyatlari olinadi.\n",
    "- Transkripsiyalar label IDlarga kodlanadi.\n",
    "\n",
    "\n",
    "\n",
    "\n",
    "\n"
   ]
  },
  {
   "cell_type": "code",
   "execution_count": 14,
   "metadata": {
    "execution": {
     "iopub.execute_input": "2024-12-16T19:50:29.913083Z",
     "iopub.status.busy": "2024-12-16T19:50:29.912705Z",
     "iopub.status.idle": "2024-12-16T19:50:29.923469Z",
     "shell.execute_reply": "2024-12-16T19:50:29.922469Z",
     "shell.execute_reply.started": "2024-12-16T19:50:29.913042Z"
    },
    "id": "6525c478-8962-4394-a1c4-103c54cce170",
    "trusted": true
   },
   "outputs": [],
   "source": [
    "def prepare_dataset(batch):\n",
    "\n",
    "    audio = batch[\"path\"]\n",
    "    batch[\"input_features\"] = feature_extractor(audio[\"array\"], sampling_rate=audio[\"sampling_rate\"]).input_features[0]\n",
    "    batch[\"labels\"] = tokenizer(batch[\"text\"]).input_ids\n",
    "\n",
    "    return batch"
   ]
  },
  {
   "cell_type": "markdown",
   "metadata": {
    "id": "V9snS03Qenmg"
   },
   "source": [
    "**Bizda `num_proc` parametri muhim parametr hisoblanadi ya'ni bu bizga multi-processing imkonini beradi. Uni to'g'ri tanlash uchun biz cpu yadrolari soni aniqlashimiz kerak va shunga teng bo'lgan qiymat tanlaymiz**"
   ]
  },
  {
   "cell_type": "code",
   "execution_count": 15,
   "metadata": {
    "execution": {
     "iopub.execute_input": "2024-12-16T19:50:29.924625Z",
     "iopub.status.busy": "2024-12-16T19:50:29.924365Z",
     "iopub.status.idle": "2024-12-16T19:50:29.939840Z",
     "shell.execute_reply": "2024-12-16T19:50:29.939139Z",
     "shell.execute_reply.started": "2024-12-16T19:50:29.924589Z"
    },
    "id": "rXLJ5E4beO6C",
    "outputId": "618281b7-7df5-470b-8bca-78f10f3323de",
    "trusted": true
   },
   "outputs": [
    {
     "name": "stdout",
     "output_type": "stream",
     "text": [
      "4\n"
     ]
    }
   ],
   "source": [
    "import os\n",
    "print(os.cpu_count())"
   ]
  },
  {
   "cell_type": "markdown",
   "metadata": {
    "id": "70b319fb-2439-4ef6-a70d-a47bf41c4a13"
   },
   "source": [
    "`.map` metodi orqali ma'lumotni tayyorlaymiz.\n",
    "\n",
    "Jarayon biroz vaqt oladi"
   ]
  },
  {
   "cell_type": "code",
   "execution_count": 16,
   "metadata": {
    "colab": {
     "referenced_widgets": [
      "c41a884a32ad459faf21ab3339f86987",
      "81f46b16e8af4203bdd51abd8fee7c0c"
     ]
    },
    "execution": {
     "iopub.execute_input": "2024-12-16T19:50:34.066009Z",
     "iopub.status.busy": "2024-12-16T19:50:34.065692Z",
     "iopub.status.idle": "2024-12-16T19:54:02.164559Z",
     "shell.execute_reply": "2024-12-16T19:54:02.163666Z",
     "shell.execute_reply.started": "2024-12-16T19:50:34.065983Z"
    },
    "id": "7b73ab39-ffaf-4b9e-86e5-782963c6134b",
    "outputId": "21bd00e8-ccde-4808-dd48-3eb694f76476",
    "trusted": true
   },
   "outputs": [
    {
     "data": {
      "application/vnd.jupyter.widget-view+json": {
       "model_id": "95583166c8ab48a2bb5b8b39264f7220",
       "version_major": 2,
       "version_minor": 0
      },
      "text/plain": [
       "Map (num_proc=4):   0%|          | 0/14000 [00:00<?, ? examples/s]"
      ]
     },
     "metadata": {},
     "output_type": "display_data"
    },
    {
     "data": {
      "application/vnd.jupyter.widget-view+json": {
       "model_id": "2bcc8e2384f44cb99ab4e664dc7e06bc",
       "version_major": 2,
       "version_minor": 0
      },
      "text/plain": [
       "Map (num_proc=4):   0%|          | 0/1000 [00:00<?, ? examples/s]"
      ]
     },
     "metadata": {},
     "output_type": "display_data"
    }
   ],
   "source": [
    "common_voice = common_voice.map(\n",
    "    prepare_dataset,\n",
    "    remove_columns=common_voice.column_names[\"train\"],  \n",
    "    num_proc=4 \n",
    ")"
   ]
  },
  {
   "cell_type": "markdown",
   "metadata": {
    "id": "263a5a58-0239-4a25-b0df-c625fc9c5810"
   },
   "source": [
    "## Training and Evaluation"
   ]
  },
  {
   "cell_type": "markdown",
   "metadata": {
    "id": "a693e768-c5a6-453f-89a1-b601dcf7daf7"
   },
   "source": [
    "Endi ma'lumot tayyorlandi, trening jarayoniga o'tamiz.\n",
    "Qadamlar:\n",
    "\n",
    "- **Pre-trained checkpoint yuklash**: modelni to'g'ri o'rnatish va treningga tayyorlash.\n",
    "- **Data collator aniqlash**: oldindan ishlov berilgan ma'lumotlarni PyTorch tensorga tayyorlash.\n",
    "- **Baholash metrikalari**: WER (word error rate) metrikasidan foydalanib, modelni baholash.\n",
    "- **Treaning konfiguratsiyasini belgilash**: Trainer uchun trening jadvalini aniqlash.\n",
    "Fine-tune qilingan modelni sinov ma'lumotlari ustida baholash"
   ]
  },
  {
   "cell_type": "markdown",
   "metadata": {
    "id": "daf2a825-6d9f-4a23-b145-c37c0039075b"
   },
   "source": [
    "## Load a Model"
   ]
  },
  {
   "cell_type": "markdown",
   "metadata": {
    "id": "437a97fa-4864-476b-8abc-f28b8166cfa5"
   },
   "source": [
    "Bu modelni qurishdan avval men `whisper-base` asosidagi modelni fine tune qilganman.\n",
    "\n",
    "[jamshidahmadov/whisper-uz](https://huggingface.co/jamshidahmadov/whisper-uz)\n",
    "\n",
    "Endi pre-trained modelni yana bir bor train qilamiz, albatta yangi ma'lumotlar uchun"
   ]
  },
  {
   "cell_type": "code",
   "execution_count": 17,
   "metadata": {
    "colab": {
     "referenced_widgets": [
      "4e5aa320a82b47fca3066bc605a5bee1",
      "834ccafc18854c09b8b098fd1d4479fb",
      "a640a6dea009440b9c98a8d02d02678b"
     ]
    },
    "execution": {
     "iopub.execute_input": "2024-12-16T19:54:32.863652Z",
     "iopub.status.busy": "2024-12-16T19:54:32.862812Z",
     "iopub.status.idle": "2024-12-16T19:54:43.657056Z",
     "shell.execute_reply": "2024-12-16T19:54:43.656087Z",
     "shell.execute_reply.started": "2024-12-16T19:54:32.863602Z"
    },
    "id": "5a10cc4b-07ec-4ebd-ac1d-7c601023594f",
    "outputId": "dba0bf7e-fda5-48ed-ab20-b37299e9bc7b",
    "trusted": true
   },
   "outputs": [
    {
     "data": {
      "application/vnd.jupyter.widget-view+json": {
       "model_id": "72f2a03ad6ef49669682960321bfe2ff",
       "version_major": 2,
       "version_minor": 0
      },
      "text/plain": [
       "config.json:   0%|          | 0.00/1.38k [00:00<?, ?B/s]"
      ]
     },
     "metadata": {},
     "output_type": "display_data"
    },
    {
     "data": {
      "application/vnd.jupyter.widget-view+json": {
       "model_id": "65f5ab42d15f4ba0921ddd53e2f6c4c9",
       "version_major": 2,
       "version_minor": 0
      },
      "text/plain": [
       "model.safetensors:   0%|          | 0.00/290M [00:00<?, ?B/s]"
      ]
     },
     "metadata": {},
     "output_type": "display_data"
    },
    {
     "data": {
      "application/vnd.jupyter.widget-view+json": {
       "model_id": "697126c590584e088273ad4f4721a603",
       "version_major": 2,
       "version_minor": 0
      },
      "text/plain": [
       "generation_config.json:   0%|          | 0.00/3.75k [00:00<?, ?B/s]"
      ]
     },
     "metadata": {},
     "output_type": "display_data"
    }
   ],
   "source": [
    "from transformers import WhisperForConditionalGeneration\n",
    "\n",
    "model = WhisperForConditionalGeneration.from_pretrained(\"jamshidahmadov/whisper-uz\")"
   ]
  },
  {
   "cell_type": "markdown",
   "metadata": {
    "id": "a15ead5f-2277-4a39-937b-585c2497b2df"
   },
   "source": [
    "Inference paytida modelni faqat O'zbek tilida ishlashga moslashtirish uchun automatic speech recognationni o'chiramiz.\n",
    "\n",
    "\n",
    "\n",
    "---\n",
    "\n",
    "\n",
    "**Inference — bu modelni o'qitishdan so'ng, yangi ma'lumotlar bilan test qilish yoki undan natija olish jarayonidir. Masalan, modelni treningdan so'ng, unga audio yoki matn kiritib, modeldan javob olish (masalan, nutqni matnga aylantirish) inference deb ataladi.**"
   ]
  },
  {
   "cell_type": "code",
   "execution_count": 18,
   "metadata": {
    "execution": {
     "iopub.execute_input": "2024-12-16T19:54:46.149451Z",
     "iopub.status.busy": "2024-12-16T19:54:46.148715Z",
     "iopub.status.idle": "2024-12-16T19:54:46.154101Z",
     "shell.execute_reply": "2024-12-16T19:54:46.153207Z",
     "shell.execute_reply.started": "2024-12-16T19:54:46.149412Z"
    },
    "id": "62038ba3-88ed-4fce-84db-338f50dcd04f",
    "trusted": true
   },
   "outputs": [],
   "source": [
    "model.generation_config.language = \"uzbek\"\n",
    "model.generation_config.task = \"transcribe\"\n",
    "\n",
    "model.generation_config.forced_decoder_ids = None"
   ]
  },
  {
   "cell_type": "markdown",
   "metadata": {
    "id": "8d230e6d-624c-400a-bbf5-fa660881df25"
   },
   "source": [
    "### Define a Data Collator"
   ]
  },
  {
   "cell_type": "markdown",
   "metadata": {
    "id": "04def221-0637-4a69-b242-d3f0c1d0ee78"
   },
   "source": [
    "Data collator `input_features` va `labels`ni alohida ishlaydi. `input_features`ni `feature extractor` bilan, `labels`ni esa `tokenizer` bilan qayta ishlaymiz."
   ]
  },
  {
   "cell_type": "code",
   "execution_count": 19,
   "metadata": {
    "execution": {
     "iopub.execute_input": "2024-12-16T19:54:48.808069Z",
     "iopub.status.busy": "2024-12-16T19:54:48.807725Z",
     "iopub.status.idle": "2024-12-16T19:54:48.815880Z",
     "shell.execute_reply": "2024-12-16T19:54:48.814876Z",
     "shell.execute_reply.started": "2024-12-16T19:54:48.808038Z"
    },
    "id": "8326221e-ec13-4731-bb4e-51e5fc1486c5",
    "trusted": true
   },
   "outputs": [],
   "source": [
    "import torch\n",
    "\n",
    "from dataclasses import dataclass\n",
    "from typing import Any, Dict, List, Union\n",
    "\n",
    "@dataclass\n",
    "class DataCollatorSpeechSeq2SeqWithPadding:\n",
    "    processor: Any\n",
    "    decoder_start_token_id: int\n",
    "\n",
    "    def __call__(self, features: List[Dict[str, Union[List[int], torch.Tensor]]]) -> Dict[str, torch.Tensor]:\n",
    "        # split inputs and labels since they have to be of different lengths and need different padding methods\n",
    "        # first treat the audio inputs by simply returning torch tensors\n",
    "        input_features = [{\"input_features\": feature[\"input_features\"]} for feature in features]\n",
    "        batch = self.processor.feature_extractor.pad(input_features, return_tensors=\"pt\")\n",
    "\n",
    "        # get the tokenized label sequences\n",
    "        label_features = [{\"input_ids\": feature[\"labels\"]} for feature in features]\n",
    "        # pad the labels to max length\n",
    "        labels_batch = self.processor.tokenizer.pad(label_features, return_tensors=\"pt\")\n",
    "\n",
    "        # replace padding with -100 to ignore loss correctly\n",
    "        labels = labels_batch[\"input_ids\"].masked_fill(labels_batch.attention_mask.ne(1), -100)\n",
    "\n",
    "        # if bos token is appended in previous tokenization step,\n",
    "        # cut bos token here as it's append later anyways\n",
    "        if (labels[:, 0] == self.decoder_start_token_id).all().cpu().item():\n",
    "            labels = labels[:, 1:]\n",
    "\n",
    "        batch[\"labels\"] = labels\n",
    "\n",
    "        return batch"
   ]
  },
  {
   "cell_type": "code",
   "execution_count": 20,
   "metadata": {
    "execution": {
     "iopub.execute_input": "2024-12-16T19:54:49.630778Z",
     "iopub.status.busy": "2024-12-16T19:54:49.630422Z",
     "iopub.status.idle": "2024-12-16T19:54:49.635000Z",
     "shell.execute_reply": "2024-12-16T19:54:49.634009Z",
     "shell.execute_reply.started": "2024-12-16T19:54:49.630747Z"
    },
    "id": "fc834702-c0d3-4a96-b101-7b87be32bf42",
    "trusted": true
   },
   "outputs": [],
   "source": [
    "data_collator = DataCollatorSpeechSeq2SeqWithPadding(\n",
    "    processor=processor,\n",
    "    decoder_start_token_id=model.config.decoder_start_token_id,\n",
    ")"
   ]
  },
  {
   "cell_type": "markdown",
   "metadata": {
    "id": "d62bb2ab-750a-45e7-82e9-61d6f4805698"
   },
   "source": [
    "### Evaluation Metrics"
   ]
  },
  {
   "cell_type": "markdown",
   "metadata": {
    "id": "66fee1a7-a44c-461e-b047-c3917221572e"
   },
   "source": [
    "Modelni baholash uchun standart bo'lib hisoblangan `word error rate (WER)`dan foydalanamiz"
   ]
  },
  {
   "cell_type": "code",
   "execution_count": 21,
   "metadata": {
    "colab": {
     "referenced_widgets": [
      "4be588ddce754981b0bfe08ea1b76f3e"
     ]
    },
    "execution": {
     "iopub.execute_input": "2024-12-16T19:54:51.415231Z",
     "iopub.status.busy": "2024-12-16T19:54:51.414604Z",
     "iopub.status.idle": "2024-12-16T19:54:52.035127Z",
     "shell.execute_reply": "2024-12-16T19:54:52.034219Z",
     "shell.execute_reply.started": "2024-12-16T19:54:51.415197Z"
    },
    "id": "b22b4011-f31f-4b57-b684-c52332f92890",
    "outputId": "e059658e-32fc-4e0e-dde9-2eef7ad89df2",
    "trusted": true
   },
   "outputs": [
    {
     "data": {
      "application/vnd.jupyter.widget-view+json": {
       "model_id": "cc5c77bd47ab4e1489ad4b84b7fa19ee",
       "version_major": 2,
       "version_minor": 0
      },
      "text/plain": [
       "Downloading builder script:   0%|          | 0.00/4.49k [00:00<?, ?B/s]"
      ]
     },
     "metadata": {},
     "output_type": "display_data"
    }
   ],
   "source": [
    "import evaluate\n",
    "\n",
    "metric = evaluate.load(\"wer\")"
   ]
  },
  {
   "cell_type": "markdown",
   "metadata": {
    "id": "4f32cab6-31f0-4cb9-af4c-40ba0f5fc508"
   },
   "source": [
    "`compute_metrics` funksiyasi -100ni `pad_token_id`ga almashtirib, `predict` va `label` IDlarini matnga decoding qiladi va WERni hisoblaydi."
   ]
  },
  {
   "cell_type": "code",
   "execution_count": 22,
   "metadata": {
    "execution": {
     "iopub.execute_input": "2024-12-16T19:54:52.783272Z",
     "iopub.status.busy": "2024-12-16T19:54:52.782848Z",
     "iopub.status.idle": "2024-12-16T19:54:52.789054Z",
     "shell.execute_reply": "2024-12-16T19:54:52.788039Z",
     "shell.execute_reply.started": "2024-12-16T19:54:52.783236Z"
    },
    "id": "23959a70-22d0-4ffe-9fa1-72b61e75bb52",
    "trusted": true
   },
   "outputs": [],
   "source": [
    "def compute_metrics(pred):\n",
    "    pred_ids = pred.predictions\n",
    "    label_ids = pred.label_ids\n",
    "\n",
    "    label_ids[label_ids == -100] = tokenizer.pad_token_id\n",
    "\n",
    "    pred_str = tokenizer.batch_decode(pred_ids, skip_special_tokens=True)\n",
    "    label_str = tokenizer.batch_decode(label_ids, skip_special_tokens=True)\n",
    "\n",
    "    wer = 100 * metric.compute(predictions=pred_str, references=label_str)\n",
    "\n",
    "    return {\"wer\": wer}"
   ]
  },
  {
   "cell_type": "markdown",
   "metadata": {
    "id": "2178dea4-80ca-47b6-b6ea-ba1915c90c06"
   },
   "source": [
    "### Define the Training Configuration"
   ]
  },
  {
   "cell_type": "markdown",
   "metadata": {
    "id": "c21af1e9-0188-4134-ac82-defc7bdcc436"
   },
   "source": [
    "Oxirgi qadam: Treaning uchun kerakli parametrlarni yozamiz"
   ]
  },
  {
   "cell_type": "code",
   "execution_count": 23,
   "metadata": {
    "execution": {
     "iopub.execute_input": "2024-12-16T19:54:57.596943Z",
     "iopub.status.busy": "2024-12-16T19:54:57.596586Z",
     "iopub.status.idle": "2024-12-16T19:54:57.724538Z",
     "shell.execute_reply": "2024-12-16T19:54:57.723563Z",
     "shell.execute_reply.started": "2024-12-16T19:54:57.596912Z"
    },
    "id": "0ae3e9af-97b7-4aa0-ae85-20b23b5bcb3a",
    "outputId": "518e6abf-7ef3-4d61-b76b-653d8e3f17ce",
    "trusted": true
   },
   "outputs": [
    {
     "name": "stderr",
     "output_type": "stream",
     "text": [
      "/opt/conda/lib/python3.10/site-packages/transformers/training_args.py:1575: FutureWarning: `evaluation_strategy` is deprecated and will be removed in version 4.46 of 🤗 Transformers. Use `eval_strategy` instead\n",
      "  warnings.warn(\n"
     ]
    }
   ],
   "source": [
    "from transformers import Seq2SeqTrainingArguments\n",
    "\n",
    "training_args = Seq2SeqTrainingArguments(\n",
    "    output_dir=\"./whisper-uz\",\n",
    "    per_device_train_batch_size=8,\n",
    "    gradient_accumulation_steps=2,\n",
    "    learning_rate=1e-5,\n",
    "    warmup_steps=500,\n",
    "    max_steps=2000,\n",
    "    gradient_checkpointing=True,\n",
    "    fp16=True,\n",
    "    evaluation_strategy=\"steps\",\n",
    "    per_device_eval_batch_size=8,\n",
    "    predict_with_generate=True,\n",
    "    generation_max_length=225,\n",
    "    save_steps=1000,\n",
    "    eval_steps=500,\n",
    "    logging_steps=25,\n",
    "    report_to=[\"tensorboard\"],\n",
    "    load_best_model_at_end=True,\n",
    "    metric_for_best_model=\"wer\",\n",
    "    greater_is_better=False,\n",
    "    push_to_hub=True,\n",
    ")"
   ]
  },
  {
   "cell_type": "markdown",
   "metadata": {
    "id": "bac29114-d226-4f54-97cf-8718c9f94e1e"
   },
   "source": [
    "Treaning argumentlarini trainerga, `model`, `dataset`, `data collator` va `compute_metrics` funksiyasi bilan birga uzatamiz:"
   ]
  },
  {
   "cell_type": "code",
   "execution_count": 24,
   "metadata": {
    "_kg_hide-output": false,
    "execution": {
     "iopub.execute_input": "2024-12-16T19:54:58.973555Z",
     "iopub.status.busy": "2024-12-16T19:54:58.973201Z",
     "iopub.status.idle": "2024-12-16T19:55:01.231425Z",
     "shell.execute_reply": "2024-12-16T19:55:01.230500Z",
     "shell.execute_reply.started": "2024-12-16T19:54:58.973523Z"
    },
    "id": "d546d7fe-0543-479a-b708-2ebabec19493",
    "outputId": "5b592c20-083c-4e52-e3a9-74aee04fb585",
    "trusted": true
   },
   "outputs": [
    {
     "name": "stderr",
     "output_type": "stream",
     "text": [
      "/tmp/ipykernel_23/240849381.py:3: FutureWarning: `tokenizer` is deprecated and will be removed in version 5.0.0 for `Seq2SeqTrainer.__init__`. Use `processing_class` instead.\n",
      "  trainer = Seq2SeqTrainer(\n"
     ]
    }
   ],
   "source": [
    "from transformers import Seq2SeqTrainer\n",
    "\n",
    "trainer = Seq2SeqTrainer(\n",
    "    args=training_args,\n",
    "    model=model,\n",
    "    train_dataset=common_voice[\"train\"],\n",
    "    eval_dataset=common_voice[\"test\"],\n",
    "    data_collator=data_collator,\n",
    "    compute_metrics=compute_metrics,\n",
    "    tokenizer=processor.feature_extractor,\n",
    ")"
   ]
  },
  {
   "cell_type": "code",
   "execution_count": 25,
   "metadata": {
    "execution": {
     "iopub.execute_input": "2024-12-16T19:55:01.233081Z",
     "iopub.status.busy": "2024-12-16T19:55:01.232809Z",
     "iopub.status.idle": "2024-12-16T19:55:01.237256Z",
     "shell.execute_reply": "2024-12-16T19:55:01.236341Z",
     "shell.execute_reply.started": "2024-12-16T19:55:01.233054Z"
    },
    "id": "Y690i9V7AAM_",
    "trusted": true
   },
   "outputs": [],
   "source": [
    "import torch\n",
    "torch.cuda.empty_cache()"
   ]
  },
  {
   "cell_type": "markdown",
   "metadata": {
    "id": "uOrRhDGtN5S4"
   },
   "source": [
    "Treningni boshlashdan oldin, processor obyektini saqlab olish maslahat beriladi. U training jarayonida o'zgarmaydi"
   ]
  },
  {
   "cell_type": "code",
   "execution_count": 26,
   "metadata": {
    "execution": {
     "iopub.execute_input": "2024-12-16T19:55:02.474306Z",
     "iopub.status.busy": "2024-12-16T19:55:02.473587Z",
     "iopub.status.idle": "2024-12-16T19:55:02.887148Z",
     "shell.execute_reply": "2024-12-16T19:55:02.886247Z",
     "shell.execute_reply.started": "2024-12-16T19:55:02.474269Z"
    },
    "id": "-2zQwMfEOBJq",
    "outputId": "2a626aa6-bf17-4553-94c9-c122a3940d7e",
    "trusted": true
   },
   "outputs": [
    {
     "data": {
      "text/plain": [
       "[]"
      ]
     },
     "execution_count": 26,
     "metadata": {},
     "output_type": "execute_result"
    }
   ],
   "source": [
    "processor.save_pretrained(training_args.output_dir)"
   ]
  },
  {
   "cell_type": "markdown",
   "metadata": {
    "id": "7f404cf9-4345-468c-8196-4bd101d9bd51"
   },
   "source": [
    "### Training"
   ]
  },
  {
   "cell_type": "markdown",
   "metadata": {
    "id": "5a55168b-2f46-4678-afa0-ff22257ec06d"
   },
   "source": [
    "**Training jarayoniga ham yetib keldik. Modelni train qilamiz...**"
   ]
  },
  {
   "cell_type": "code",
   "execution_count": null,
   "metadata": {
    "id": "ee8b7b8e-1c9a-4d77-9137-1778a629e6de",
    "trusted": true
   },
   "outputs": [],
   "source": [
    "trainer.train()"
   ]
  },
  {
   "attachments": {
    "38369c25-b3c2-4826-bc0e-5f8ba7d289e1.jpg": {
     "image/jpeg": "[encoded data removed]"
    }
   },
   "cell_type": "markdown",
   "metadata": {},
   "source": [
    "![telegram-cloud-photo-size-1-5118751099094937194-x.jpg](attachment:38369c25-b3c2-4826-bc0e-5f8ba7d289e1.jpg)"
   ]
  },
  {
   "cell_type": "markdown",
   "metadata": {
    "id": "810ced54-7187-4a06-b2fe-ba6dcca94dc3"
   },
   "source": [
    "Wer ~ 10 natijasiga ega bo'ldik.\n",
    "Ko'proq resurslar va datasetning kattaroq qismidan foydalanish orqali bu natijani oshira olamiz"
   ]
  },
  {
   "cell_type": "markdown",
   "metadata": {
    "id": "lF6SXn7TAANA"
   },
   "source": [
    "Endi modelni huggingfacega yuklaymiz"
   ]
  },
  {
   "cell_type": "code",
   "execution_count": 28,
   "metadata": {
    "execution": {
     "iopub.execute_input": "2024-12-16T21:57:37.294127Z",
     "iopub.status.busy": "2024-12-16T21:57:37.293068Z",
     "iopub.status.idle": "2024-12-16T21:57:37.298549Z",
     "shell.execute_reply": "2024-12-16T21:57:37.297484Z",
     "shell.execute_reply.started": "2024-12-16T21:57:37.294087Z"
    },
    "trusted": true
   },
   "outputs": [],
   "source": [
    "kwargs = {\n",
    "    \"dataset_args\": \"config: uz, split: test\",\n",
    "    \"language\": \"uz\",\n",
    "    \"model_name\": \"Whisper base uz - Jamshid Ahmadov\",\n",
    "    \"tasks\": \"automatic-speech-recognition\",\n",
    "}"
   ]
  },
  {
   "cell_type": "markdown",
   "metadata": {
    "id": "090d676a-f944-4297-a938-a40eda0b2b68"
   },
   "source": [
    " `push_to_hub` buyrug'idan foydalanamiz:"
   ]
  },
  {
   "cell_type": "code",
   "execution_count": 29,
   "metadata": {
    "execution": {
     "iopub.execute_input": "2024-12-16T21:57:38.419726Z",
     "iopub.status.busy": "2024-12-16T21:57:38.419366Z",
     "iopub.status.idle": "2024-12-16T21:57:43.410384Z",
     "shell.execute_reply": "2024-12-16T21:57:43.409294Z",
     "shell.execute_reply.started": "2024-12-16T21:57:38.419691Z"
    },
    "trusted": true
   },
   "outputs": [
    {
     "data": {
      "text/plain": [
       "CommitInfo(commit_url='https://huggingface.co/jamshidahmadov/whisper-uz-v3/commit/c6d967e526c4dad09dc354f1c746c4db04e124d5', commit_message='End of training', commit_description='', oid='c6d967e526c4dad09dc354f1c746c4db04e124d5', pr_url=None, repo_url=RepoUrl('https://huggingface.co/jamshidahmadov/whisper-uz-v3', endpoint='https://huggingface.co', repo_type='model', repo_id='jamshidahmadov/whisper-uz-v3'), pr_revision=None, pr_num=None)"
      ]
     },
     "execution_count": 29,
     "metadata": {},
     "output_type": "execute_result"
    }
   ],
   "source": [
    "trainer.push_to_hub(**kwargs)"
   ]
  }
 ],
 "metadata": {
  "accelerator": "GPU",
  "colab": {
   "gpuType": "T4",
   "provenance": []
  },
  "kaggle": {
   "accelerator": "gpu",
   "dataSources": [],
   "dockerImageVersionId": 30805,
   "isGpuEnabled": true,
   "isInternetEnabled": true,
   "language": "python",
   "sourceType": "notebook"
  },
  "kernelspec": {
   "display_name": "Python 3",
   "language": "python",
   "name": "python3"
  },
  "language_info": {
   "codemirror_mode": {
    "name": "ipython",
    "version": 3
   },
   "file_extension": ".py",
   "mimetype": "text/x-python",
   "name": "python",
   "nbconvert_exporter": "python",
   "pygments_lexer": "ipython3",
   "version": "3.10.14"
  },
  "widgets": {
   "application/vnd.jupyter.widget-state+json": {}
  }
 },
 "nbformat": 4,
 "nbformat_minor": 4
}
