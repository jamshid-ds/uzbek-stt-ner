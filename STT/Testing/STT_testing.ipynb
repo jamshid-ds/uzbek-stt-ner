{
  "cells": [
    {
      "cell_type": "code",
      "execution_count": null,
      "metadata": {
        "id": "_y7ICJjGGiYH"
      },
      "outputs": [],
      "source": [
        "from transformers import pipeline\n",
        "pipe = pipeline(\"automatic-speech-recognition\", model=\"jamshidahmadov/whisper-uz-v2\")"
      ]
    },
    {
      "cell_type": "code",
      "execution_count": null,
      "metadata": {
        "colab": {
          "base_uri": "https://localhost:8080/"
        },
        "id": "hzg8SXDzIcqm",
        "outputId": "28399a1c-de3e-4a13-f162-bcd85e908e1c"
      },
      "outputs": [],
      "source": [
        "test1 = pipe('test1.wav')\n",
        "test2 = pipe('test2.wav')\n",
        "test3 = pipe('test3.wav')\n",
        "test4 = pipe('test4.wav')\n",
        "test5 = pipe('test5.wav')"
      ]
    },
    {
      "cell_type": "code",
      "execution_count": 5,
      "metadata": {
        "colab": {
          "base_uri": "https://localhost:8080/"
        },
        "id": "c_Rwnvp0I2EO",
        "outputId": "7c8b3c72-c49e-43b8-b814-29f3c52f864c"
      },
      "outputs": [
        {
          "name": "stdout",
          "output_type": "stream",
          "text": [
            "Men O‘zbekistonda yashayman va hozir o‘n yetti yoshdaman.\n",
            "Mohira maktabda dars beradi, uning o‘quvchilari, oltin, kumush va bironzamidallarni qo‘lga kiritishadi.\n",
            "Bu ovoz sinov vazifasida yozilmoqda.\n",
            "Menga yoshlikdan eng muhim boylik bu bilim ekanini ta’kidlashgan.\n",
            "Salom, bu nutqni matnga aylantiruvchi, sunyi intellektning testi.\n"
          ]
        }
      ],
      "source": [
        "list_test = [test1,test2,test3,test4,test5]\n",
        "for result in list_test:\n",
        "  print(result['text'])"
      ]
    },
    {
      "cell_type": "code",
      "execution_count": null,
      "metadata": {
        "id": "iF7ZRHqzJTPR"
      },
      "outputs": [],
      "source": []
    }
  ],
  "metadata": {
    "colab": {
      "provenance": []
    },
    "kernelspec": {
      "display_name": "Python 3",
      "name": "python3"
    },
    "language_info": {
      "name": "python"
    }
  },
  "nbformat": 4,
  "nbformat_minor": 0
}
