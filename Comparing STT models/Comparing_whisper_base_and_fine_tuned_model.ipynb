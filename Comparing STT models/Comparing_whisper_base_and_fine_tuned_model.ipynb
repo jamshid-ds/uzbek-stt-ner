{
  "nbformat": 4,
  "nbformat_minor": 0,
  "metadata": {
    "colab": {
      "provenance": []
    },
    "kernelspec": {
      "name": "python3",
      "display_name": "Python 3"
    },
    "language_info": {
      "name": "python"
    }
  },
  "cells": [
    {
      "cell_type": "code",
      "execution_count": 16,
      "metadata": {
        "id": "gwIM0qtVl5nP"
      },
      "outputs": [],
      "source": [
        "from transformers import pipeline\n",
        "\n",
        "pipe_uz = pipeline(\"automatic-speech-recognition\", model=\"jamshidahmadov/whisper-uz\")\n",
        "pipe_whis_base = pipeline(\"automatic-speech-recognition\", model=\"openai/whisper-base\")"
      ]
    },
    {
      "cell_type": "code",
      "source": [
        "audio_path = \"test1.wav\"\n",
        "transcription_fine_tuned = pipe_uz(audio_path)\n",
        "transcription_whisper = pipe_whis_base(audio_path)\n",
        "\n",
        "print(f\"Fine tuned model natijasi: {transcription_fine_tuned['text']}\")\n",
        "print(f\"Haqiqiy model natijasi: {transcription_whisper['text']}\")"
      ],
      "metadata": {
        "colab": {
          "base_uri": "https://localhost:8080/"
        },
        "id": "EG_-NS-Bm9-M",
        "outputId": "df498a00-4f39-43a2-f1b7-5750fffa6bef"
      },
      "execution_count": 20,
      "outputs": [
        {
          "output_type": "stream",
          "name": "stderr",
          "text": [
            "/usr/local/lib/python3.10/dist-packages/transformers/models/whisper/generation_whisper.py:509: FutureWarning: The input name `inputs` is deprecated. Please make sure to use `input_features` instead.\n",
            "  warnings.warn(\n",
            "/usr/local/lib/python3.10/dist-packages/transformers/models/whisper/generation_whisper.py:509: FutureWarning: The input name `inputs` is deprecated. Please make sure to use `input_features` instead.\n",
            "  warnings.warn(\n"
          ]
        },
        {
          "output_type": "stream",
          "name": "stdout",
          "text": [
            "Fine tuned model natijasi: Men O‘zbekistonda yashayman va hozir o‘n yiddi yoshdaman\n",
            "Haqiqiy model natijasi:  Men uzbix tonde jaseiman, va hozar uni ite jostaman.\n"
          ]
        }
      ]
    },
    {
      "cell_type": "code",
      "source": [
        "audio_path = \"test2.wav\"\n",
        "transcription_fine_tuned = pipe_uz(audio_path)\n",
        "transcription_whisper = pipe_whis_base(audio_path)\n",
        "\n",
        "print(f\"Fine tuned model natijasi: {transcription_fine_tuned['text']}\")\n",
        "print(f\"Haqiqiy model natijasi: {transcription_whisper['text']}\")"
      ],
      "metadata": {
        "colab": {
          "base_uri": "https://localhost:8080/"
        },
        "id": "6QUSorgntTgi",
        "outputId": "1d40ed29-d676-408e-cfe9-7d91139d29fe"
      },
      "execution_count": 21,
      "outputs": [
        {
          "output_type": "stream",
          "name": "stderr",
          "text": [
            "/usr/local/lib/python3.10/dist-packages/transformers/models/whisper/generation_whisper.py:509: FutureWarning: The input name `inputs` is deprecated. Please make sure to use `input_features` instead.\n",
            "  warnings.warn(\n",
            "/usr/local/lib/python3.10/dist-packages/transformers/models/whisper/generation_whisper.py:509: FutureWarning: The input name `inputs` is deprecated. Please make sure to use `input_features` instead.\n",
            "  warnings.warn(\n"
          ]
        },
        {
          "output_type": "stream",
          "name": "stdout",
          "text": [
            "Fine tuned model natijasi: Mohira maktabda dars beradi. Uning uquvchilari, oldin, kumush va bironza medalarni qulga kiritishadi.\n",
            "Haqiqiy model natijasi:  Mojira ma chitepta d-a spierat. Unui ucucilara, altean, cumus, fabronze mi-dalarna cu uliecare catea.\n"
          ]
        }
      ]
    },
    {
      "cell_type": "code",
      "source": [
        "audio_path = \"test3.wav\"\n",
        "transcription_fine_tuned = pipe_uz(audio_path)\n",
        "transcription_whisper = pipe_whis_base(audio_path)\n",
        "\n",
        "print(f\"Fine tuned model natijasi: {transcription_fine_tuned['text']}\")\n",
        "print(f\"Haqiqiy model natijasi: {transcription_whisper['text']}\")"
      ],
      "metadata": {
        "colab": {
          "base_uri": "https://localhost:8080/"
        },
        "id": "iR-r-QuqugqA",
        "outputId": "ccc53f51-6baa-4b6b-b928-2c36f01ee8bb"
      },
      "execution_count": 22,
      "outputs": [
        {
          "output_type": "stream",
          "name": "stderr",
          "text": [
            "/usr/local/lib/python3.10/dist-packages/transformers/models/whisper/generation_whisper.py:509: FutureWarning: The input name `inputs` is deprecated. Please make sure to use `input_features` instead.\n",
            "  warnings.warn(\n",
            "/usr/local/lib/python3.10/dist-packages/transformers/models/whisper/generation_whisper.py:509: FutureWarning: The input name `inputs` is deprecated. Please make sure to use `input_features` instead.\n",
            "  warnings.warn(\n"
          ]
        },
        {
          "output_type": "stream",
          "name": "stdout",
          "text": [
            "Fine tuned model natijasi: Bu ovoz snov vazifasida yozilmoqda\n",
            "Haqiqiy model natijasi:  بو أووز صنو بسي فس دو يوزل مقطا\n"
          ]
        }
      ]
    },
    {
      "cell_type": "code",
      "source": [],
      "metadata": {
        "id": "D2Rw5BkKuymP"
      },
      "execution_count": null,
      "outputs": []
    }
  ]
}