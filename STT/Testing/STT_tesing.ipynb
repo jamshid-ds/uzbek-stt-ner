{
  "nbformat": 4,
  "nbformat_minor": 0,
  "metadata": {
    "colab": {
      "provenance": []
    },
    "kernelspec": {
      "name": "python3",
      "display_name": "Python 3"
    },
    "language_info": {
      "name": "python"
    }
  },
  "cells": [
    {
      "cell_type": "code",
      "execution_count": null,
      "metadata": {
        "id": "_y7ICJjGGiYH"
      },
      "outputs": [],
      "source": [
        "from transformers import pipeline\n",
        "pipe = pipeline(\"automatic-speech-recognition\", model=\"jamshidahmadov/whisper-uz-v2\")"
      ]
    },
    {
      "cell_type": "code",
      "source": [
        "test1 = pipe('test1.wav')\n",
        "test2 = pipe('test2.wav')\n",
        "test3 = pipe('test3.wav')\n",
        "test4 = pipe('test4.wav')\n",
        "test5 = pipe('test5.wav')"
      ],
      "metadata": {
        "colab": {
          "base_uri": "https://localhost:8080/"
        },
        "id": "hzg8SXDzIcqm",
        "outputId": "28399a1c-de3e-4a13-f162-bcd85e908e1c"
      },
      "execution_count": 3,
      "outputs": [
        {
          "output_type": "stream",
          "name": "stderr",
          "text": [
            "/usr/local/lib/python3.10/dist-packages/transformers/models/whisper/generation_whisper.py:509: FutureWarning: The input name `inputs` is deprecated. Please make sure to use `input_features` instead.\n",
            "  warnings.warn(\n",
            "You have passed task=transcribe, but also have set `forced_decoder_ids` to [[1, 50259], [2, 50359], [3, 50363]] which creates a conflict. `forced_decoder_ids` will be ignored in favor of task=transcribe.\n",
            "/usr/local/lib/python3.10/dist-packages/transformers/models/whisper/generation_whisper.py:509: FutureWarning: The input name `inputs` is deprecated. Please make sure to use `input_features` instead.\n",
            "  warnings.warn(\n",
            "/usr/local/lib/python3.10/dist-packages/transformers/models/whisper/generation_whisper.py:509: FutureWarning: The input name `inputs` is deprecated. Please make sure to use `input_features` instead.\n",
            "  warnings.warn(\n",
            "/usr/local/lib/python3.10/dist-packages/transformers/models/whisper/generation_whisper.py:509: FutureWarning: The input name `inputs` is deprecated. Please make sure to use `input_features` instead.\n",
            "  warnings.warn(\n",
            "/usr/local/lib/python3.10/dist-packages/transformers/models/whisper/generation_whisper.py:509: FutureWarning: The input name `inputs` is deprecated. Please make sure to use `input_features` instead.\n",
            "  warnings.warn(\n"
          ]
        }
      ]
    },
    {
      "cell_type": "code",
      "source": [
        "list_test = [test1,test2,test3,test4,test5]\n",
        "for result in list_test:\n",
        "  print(result['text'])"
      ],
      "metadata": {
        "colab": {
          "base_uri": "https://localhost:8080/"
        },
        "id": "c_Rwnvp0I2EO",
        "outputId": "7c8b3c72-c49e-43b8-b814-29f3c52f864c"
      },
      "execution_count": 5,
      "outputs": [
        {
          "output_type": "stream",
          "name": "stdout",
          "text": [
            "Men O‘zbekistonda yashayman va hozir o‘n yetti yoshdaman.\n",
            "Mohira maktabda dars beradi, uning o‘quvchilari, oltin, kumush va bironzamidallarni qo‘lga kiritishadi.\n",
            "Bu ovoz sinov vazifasida yozilmoqda.\n",
            "Menga yoshlikdan eng muhim boylik bu bilim ekanini ta’kidlashgan.\n",
            "Salom, bu nutqni matnga aylantiruvchi, sunyi intellektning testi.\n"
          ]
        }
      ]
    },
    {
      "cell_type": "code",
      "source": [],
      "metadata": {
        "id": "iF7ZRHqzJTPR"
      },
      "execution_count": null,
      "outputs": []
    }
  ]
}