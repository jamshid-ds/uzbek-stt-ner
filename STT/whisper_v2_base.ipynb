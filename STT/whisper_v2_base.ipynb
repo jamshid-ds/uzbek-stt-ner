{
  "cells": [
    {
      "cell_type": "markdown",
      "metadata": {
        "id": "55fb8d21-df06-472a-99dd-b59567be6dad"
      },
      "source": [
        "## Prepare Environment"
      ]
    },
    {
      "cell_type": "markdown",
      "metadata": {
        "id": "844a4861-929c-4762-b29b-80b1e95aba4b"
      },
      "source": [
        "Birinchi navbatda bizga yetarli darajada kuchli bo'lgan GPU kerak bo'ladi va biz Kagglening gpusidan foydalanamiz\n"
      ]
    },
    {
      "cell_type": "markdown",
      "metadata": {
        "id": "9abea5d7-9d54-434b-a6bd-399d1b3c6c1a"
      },
      "source": [
        "Bizdagi GPU ishlayotganini tekshiramiz"
      ]
    },
    {
      "cell_type": "code",
      "execution_count": null,
      "metadata": {
        "execution": {
          "iopub.execute_input": "2024-12-10T22:02:11.670016Z",
          "iopub.status.busy": "2024-12-10T22:02:11.669301Z",
          "iopub.status.idle": "2024-12-10T22:02:11.727846Z",
          "shell.execute_reply": "2024-12-10T22:02:11.726990Z",
          "shell.execute_reply.started": "2024-12-10T22:02:11.669980Z"
        },
        "id": "95048026-a3b7-43f0-a274-1bad65e407b4",
        "outputId": "8d29e28c-1ba5-4bc0-f510-db43aaeee0d2",
        "trusted": true
      },
      "outputs": [
        {
          "name": "stdout",
          "output_type": "stream",
          "text": [
            "Tue Dec 10 22:02:11 2024       \n",
            "+-----------------------------------------------------------------------------------------+\n",
            "| NVIDIA-SMI 560.35.03              Driver Version: 560.35.03      CUDA Version: 12.6     |\n",
            "|-----------------------------------------+------------------------+----------------------+\n",
            "| GPU  Name                 Persistence-M | Bus-Id          Disp.A | Volatile Uncorr. ECC |\n",
            "| Fan  Temp   Perf          Pwr:Usage/Cap |           Memory-Usage | GPU-Util  Compute M. |\n",
            "|                                         |                        |               MIG M. |\n",
            "|=========================================+========================+======================|\n",
            "|   0  Tesla P100-PCIE-16GB           Off |   00000000:00:04.0 Off |                    0 |\n",
            "| N/A   38C    P0             28W /  250W |       0MiB /  16384MiB |      0%      Default |\n",
            "|                                         |                        |                  N/A |\n",
            "+-----------------------------------------+------------------------+----------------------+\n",
            "                                                                                         \n",
            "+-----------------------------------------------------------------------------------------+\n",
            "| Processes:                                                                              |\n",
            "|  GPU   GI   CI        PID   Type   Process name                              GPU Memory |\n",
            "|        ID   ID                                                               Usage      |\n",
            "|=========================================================================================|\n",
            "|  No running processes found                                                             |\n",
            "+-----------------------------------------------------------------------------------------+\n"
          ]
        }
      ],
      "source": [
        "gpu_info = !nvidia-smi\n",
        "gpu_info = '\\n'.join(gpu_info)\n",
        "if gpu_info.find('failed') >= 0:\n",
        "  print('Not connected to a GPU')\n",
        "else:\n",
        "  print(gpu_info)"
      ]
    },
    {
      "cell_type": "markdown",
      "metadata": {
        "id": "1d85d613-1c7e-46ac-9134-660bbe7ebc9d"
      },
      "source": [
        "Biz Whisper modelini fine-tune qilish uchun bir nechta mashhur Python paketlaridan foydalanamiz. datasets[audio] yordamida trening ma'lumotlarini yuklab olib tayyorlaymiz, transformers va accelerate paketlari yordamida modelni yuklab olib o'rgatamiz. Shuningdek, audio fayllarni oldindan ishlov berish uchun soundfile, modelning samaradorligini baholash uchun evaluate va jiwer, metrikalarni yozib borish uchun esa tensorboard paketlaridan foydalanamiz."
      ]
    },
    {
      "cell_type": "code",
      "execution_count": null,
      "metadata": {
        "execution": {
          "iopub.execute_input": "2024-12-10T22:02:12.843555Z",
          "iopub.status.busy": "2024-12-10T22:02:12.842872Z",
          "iopub.status.idle": "2024-12-10T22:02:57.281155Z",
          "shell.execute_reply": "2024-12-10T22:02:57.280240Z",
          "shell.execute_reply.started": "2024-12-10T22:02:12.843521Z"
        },
        "id": "e68ea9f8-9b61-414e-8885-3033b67c2850",
        "outputId": "3bc53fc9-7d78-4e17-ea95-4b5cfe61c2e5",
        "trusted": true
      },
      "outputs": [
        {
          "name": "stdout",
          "output_type": "stream",
          "text": [
            "\u001b[31mERROR: pip's dependency resolver does not currently take into account all the packages that are installed. This behaviour is the source of the following dependency conflicts.\n",
            "tensorflow 2.16.1 requires tensorboard<2.17,>=2.16, but you have tensorboard 2.18.0 which is incompatible.\u001b[0m\u001b[31m\n",
            "\u001b[0m"
          ]
        }
      ],
      "source": [
        "!pip install --upgrade --quiet pip\n",
        "!pip install --upgrade --quiet datasets[audio] transformers accelerate evaluate jiwer tensorboard gradio"
      ]
    },
    {
      "cell_type": "markdown",
      "metadata": {
        "id": "1f60d173-8de1-4ed7-bc9a-d281cf237203"
      },
      "source": [
        "Bizdan Huggingfacega kirish talab qilinadi"
      ]
    },
    {
      "cell_type": "code",
      "execution_count": null,
      "metadata": {
        "execution": {
          "iopub.execute_input": "2024-12-10T22:02:57.283680Z",
          "iopub.status.busy": "2024-12-10T22:02:57.283255Z",
          "iopub.status.idle": "2024-12-10T22:02:57.597282Z",
          "shell.execute_reply": "2024-12-10T22:02:57.596416Z",
          "shell.execute_reply.started": "2024-12-10T22:02:57.283637Z"
        },
        "id": "b045a39e-2a3e-4153-bdb5-281500bcd348",
        "outputId": "9ea1a6c5-5a1d-4cae-a064-db1733340897",
        "trusted": true,
        "colab": {
          "referenced_widgets": [
            "34fe553b6a24495bb995452fc431a8c6"
          ]
        }
      },
      "outputs": [
        {
          "data": {
            "application/vnd.jupyter.widget-view+json": {
              "model_id": "34fe553b6a24495bb995452fc431a8c6",
              "version_major": 2,
              "version_minor": 0
            },
            "text/plain": [
              "VBox(children=(HTML(value='<center> <img\\nsrc=https://huggingface.co/front/assets/huggingface_logo-noborder.sv…"
            ]
          },
          "metadata": {},
          "output_type": "display_data"
        }
      ],
      "source": [
        "from huggingface_hub import notebook_login\n",
        "\n",
        "notebook_login()"
      ]
    },
    {
      "cell_type": "markdown",
      "metadata": {
        "id": "b219c9dd-39b6-4a95-b2a1-3f547a1e7bc0"
      },
      "source": [
        "## Load Dataset"
      ]
    },
    {
      "cell_type": "markdown",
      "metadata": {
        "id": "674429c5-0ab4-4adf-975b-621bb69eca38"
      },
      "source": [
        "Birinchi muhim qadam sifatida biz kerakli datasetni yuklab olishimiz kerak bo'ladi, Biz  mozilla-foundation/common_voice_17_0 datasetini ishlatamiz (O'zbek tilida)\n",
        "\n",
        "Dataset ancha katta, shuning uchun biz uning bir qismidan foydalanamiz"
      ]
    },
    {
      "cell_type": "code",
      "execution_count": null,
      "metadata": {
        "execution": {
          "iopub.execute_input": "2024-12-10T22:03:17.974985Z",
          "iopub.status.busy": "2024-12-10T22:03:17.974648Z",
          "iopub.status.idle": "2024-12-10T22:09:38.875221Z",
          "shell.execute_reply": "2024-12-10T22:09:38.874331Z",
          "shell.execute_reply.started": "2024-12-10T22:03:17.974955Z"
        },
        "trusted": true,
        "id": "oI7QGGx5AAM4"
      },
      "outputs": [],
      "source": [
        "from datasets import load_dataset, DatasetDict\n",
        "\n",
        "common_voice = DatasetDict()\n",
        "\n",
        "common_voice[\"train\"] = load_dataset(\"mozilla-foundation/common_voice_17_0\", \"uz\", split=\"validated[:25%]\")\n",
        "common_voice[\"test\"] = load_dataset(\"mozilla-foundation/common_voice_17_0\", \"uz\", split=\"validated[25%:27%]\")\n",
        "\n",
        "print(common_voice)"
      ]
    },
    {
      "cell_type": "markdown",
      "metadata": {
        "id": "d5c7c3d6-7197-41e7-a088-49b753c1681f"
      },
      "source": [
        "Biz o'zimizga kerakli bo'lgan ma'lumotlarnigina qoldiramiz"
      ]
    },
    {
      "cell_type": "code",
      "execution_count": null,
      "metadata": {
        "trusted": true,
        "id": "JUCyXMJbAAM4"
      },
      "outputs": [],
      "source": [
        "common_voice = common_voice.remove_columns([\"accent\", \"age\", \"client_id\", \"down_votes\", \"gender\", \"locale\", \"path\", \"segment\", \"up_votes\",'variant'])\n",
        "\n",
        "print(common_voice)"
      ]
    },
    {
      "cell_type": "markdown",
      "metadata": {
        "id": "2d63b2d2-f68a-4d74-b7f1-5127f6d16605"
      },
      "source": [
        "## Prepare Feature Extractor, Tokenizer and Data"
      ]
    },
    {
      "cell_type": "markdown",
      "metadata": {
        "id": "601c3099-1026-439e-93e2-5635b3ba5a73"
      },
      "source": [
        "\n",
        "Jarayoni uch bosqichga bo'linadi:\n",
        "\n",
        "- Xom audio ma'lumotlarni oldindan ishlovchi **feature extractor**.\n",
        "- Ma'lumotni ketma-ketlikka moslovchi **model**.\n",
        "- Model chiqishlarini matn formatiga o'tkazuvchi **tokenizer**.\n",
        "\n",
        "Transformers kutubxonasida Whisper modeli uchun maxsus WhisperFeatureExtractor va WhisperTokenizer mavjud."
      ]
    },
    {
      "cell_type": "markdown",
      "metadata": {
        "id": "560332eb-3558-41a1-b500-e83a9f695f84"
      },
      "source": [
        "### Load WhisperFeatureExtractor"
      ]
    },
    {
      "cell_type": "code",
      "execution_count": null,
      "metadata": {
        "execution": {
          "iopub.execute_input": "2024-12-10T22:10:14.142078Z",
          "iopub.status.busy": "2024-12-10T22:10:14.141671Z",
          "iopub.status.idle": "2024-12-10T22:10:14.156006Z",
          "shell.execute_reply": "2024-12-10T22:10:14.155137Z",
          "shell.execute_reply.started": "2024-12-10T22:10:14.142050Z"
        },
        "trusted": true,
        "colab": {
          "referenced_widgets": [
            "a583c96d408d41ceb5ba2a856c17ad7a"
          ]
        },
        "id": "gxpyhU5WAAM5",
        "outputId": "31a1889f-1b7b-4141-a471-3fa0b56571e5"
      },
      "outputs": [
        {
          "data": {
            "application/vnd.jupyter.widget-view+json": {
              "model_id": "a583c96d408d41ceb5ba2a856c17ad7a",
              "version_major": 2,
              "version_minor": 0
            },
            "text/plain": [
              "0it [00:00, ?it/s]"
            ]
          },
          "metadata": {},
          "output_type": "display_data"
        }
      ],
      "source": [
        "import transformers\n",
        "transformers.utils.move_cache()"
      ]
    },
    {
      "cell_type": "code",
      "execution_count": null,
      "metadata": {
        "execution": {
          "iopub.execute_input": "2024-12-10T22:10:14.157105Z",
          "iopub.status.busy": "2024-12-10T22:10:14.156893Z",
          "iopub.status.idle": "2024-12-10T22:10:15.000503Z",
          "shell.execute_reply": "2024-12-10T22:10:14.999665Z",
          "shell.execute_reply.started": "2024-12-10T22:10:14.157082Z"
        },
        "id": "bc77d7bb-f9e2-47f5-b663-30f7a4321ce5",
        "outputId": "1b9e7c18-2756-4f12-8e09-4b06cd61de5e",
        "trusted": true,
        "colab": {
          "referenced_widgets": [
            "abf4d1454deb4222af1592a7db4f295c"
          ]
        }
      },
      "outputs": [
        {
          "data": {
            "application/vnd.jupyter.widget-view+json": {
              "model_id": "abf4d1454deb4222af1592a7db4f295c",
              "version_major": 2,
              "version_minor": 0
            },
            "text/plain": [
              "preprocessor_config.json:   0%|          | 0.00/185k [00:00<?, ?B/s]"
            ]
          },
          "metadata": {},
          "output_type": "display_data"
        }
      ],
      "source": [
        "from transformers import WhisperFeatureExtractor\n",
        "\n",
        "feature_extractor = WhisperFeatureExtractor.from_pretrained(\"openai/whisper-base\")"
      ]
    },
    {
      "cell_type": "markdown",
      "metadata": {
        "id": "93748af7-b917-4ecf-a0c8-7d89077ff9cb"
      },
      "source": [
        "### Load WhisperTokenizer"
      ]
    },
    {
      "cell_type": "code",
      "execution_count": null,
      "metadata": {
        "execution": {
          "iopub.execute_input": "2024-12-10T22:10:16.558173Z",
          "iopub.status.busy": "2024-12-10T22:10:16.557335Z",
          "iopub.status.idle": "2024-12-10T22:10:18.842058Z",
          "shell.execute_reply": "2024-12-10T22:10:18.841113Z",
          "shell.execute_reply.started": "2024-12-10T22:10:16.558137Z"
        },
        "id": "c7b07f9b-ae0e-4f89-98f0-0c50d432eab6",
        "trusted": true,
        "colab": {
          "referenced_widgets": [
            "a91d35ca733d46c69e1650181e06b081",
            "4d90c9740f12455a8d98ec24a4177bfd",
            "f9ce891e53cd4332997729e1dd4c79b2",
            "b4d32773246a45e4a21d1ebbb0322d3f",
            "a4021a8fab4e4a4ebb29b44503445b4c",
            "e18f74202a794f5fb42c860d62465136",
            "7ebfb5e5cb414132abf0fb25ca64c2df"
          ]
        },
        "outputId": "1d8e0ffc-9600-47a3-936e-17b75a99adc3"
      },
      "outputs": [
        {
          "data": {
            "application/vnd.jupyter.widget-view+json": {
              "model_id": "a91d35ca733d46c69e1650181e06b081",
              "version_major": 2,
              "version_minor": 0
            },
            "text/plain": [
              "tokenizer_config.json:   0%|          | 0.00/283k [00:00<?, ?B/s]"
            ]
          },
          "metadata": {},
          "output_type": "display_data"
        },
        {
          "data": {
            "application/vnd.jupyter.widget-view+json": {
              "model_id": "4d90c9740f12455a8d98ec24a4177bfd",
              "version_major": 2,
              "version_minor": 0
            },
            "text/plain": [
              "vocab.json:   0%|          | 0.00/836k [00:00<?, ?B/s]"
            ]
          },
          "metadata": {},
          "output_type": "display_data"
        },
        {
          "data": {
            "application/vnd.jupyter.widget-view+json": {
              "model_id": "f9ce891e53cd4332997729e1dd4c79b2",
              "version_major": 2,
              "version_minor": 0
            },
            "text/plain": [
              "tokenizer.json:   0%|          | 0.00/2.48M [00:00<?, ?B/s]"
            ]
          },
          "metadata": {},
          "output_type": "display_data"
        },
        {
          "data": {
            "application/vnd.jupyter.widget-view+json": {
              "model_id": "b4d32773246a45e4a21d1ebbb0322d3f",
              "version_major": 2,
              "version_minor": 0
            },
            "text/plain": [
              "merges.txt:   0%|          | 0.00/494k [00:00<?, ?B/s]"
            ]
          },
          "metadata": {},
          "output_type": "display_data"
        },
        {
          "data": {
            "application/vnd.jupyter.widget-view+json": {
              "model_id": "a4021a8fab4e4a4ebb29b44503445b4c",
              "version_major": 2,
              "version_minor": 0
            },
            "text/plain": [
              "normalizer.json:   0%|          | 0.00/52.7k [00:00<?, ?B/s]"
            ]
          },
          "metadata": {},
          "output_type": "display_data"
        },
        {
          "data": {
            "application/vnd.jupyter.widget-view+json": {
              "model_id": "e18f74202a794f5fb42c860d62465136",
              "version_major": 2,
              "version_minor": 0
            },
            "text/plain": [
              "added_tokens.json:   0%|          | 0.00/34.6k [00:00<?, ?B/s]"
            ]
          },
          "metadata": {},
          "output_type": "display_data"
        },
        {
          "data": {
            "application/vnd.jupyter.widget-view+json": {
              "model_id": "7ebfb5e5cb414132abf0fb25ca64c2df",
              "version_major": 2,
              "version_minor": 0
            },
            "text/plain": [
              "special_tokens_map.json:   0%|          | 0.00/2.19k [00:00<?, ?B/s]"
            ]
          },
          "metadata": {},
          "output_type": "display_data"
        }
      ],
      "source": [
        "from transformers import WhisperTokenizer\n",
        "\n",
        "tokenizer = WhisperTokenizer.from_pretrained(\"openai/whisper-base\", language=\"uzbek\", task=\"transcribe\")"
      ]
    },
    {
      "cell_type": "markdown",
      "metadata": {
        "id": "d2ef23f3-f4a8-483a-a2dc-080a7496cb1b"
      },
      "source": [
        "### Combine To Create A WhisperProcessor"
      ]
    },
    {
      "cell_type": "code",
      "execution_count": null,
      "metadata": {
        "execution": {
          "iopub.execute_input": "2024-12-10T22:10:18.844460Z",
          "iopub.status.busy": "2024-12-10T22:10:18.843645Z",
          "iopub.status.idle": "2024-12-10T22:10:21.106682Z",
          "shell.execute_reply": "2024-12-10T22:10:21.105901Z",
          "shell.execute_reply.started": "2024-12-10T22:10:18.844420Z"
        },
        "id": "77d9f0c5-8607-4642-a8ac-c3ab2e223ea6",
        "trusted": true
      },
      "outputs": [],
      "source": [
        "from transformers import WhisperProcessor\n",
        "\n",
        "processor = WhisperProcessor.from_pretrained(\"openai/whisper-base\", language=\"uzbek\", task=\"transcribe\")"
      ]
    },
    {
      "cell_type": "markdown",
      "metadata": {
        "id": "381acd09-0b0f-4d04-9eb3-f028ac0e5f2c"
      },
      "source": [
        "### Prepare Data"
      ]
    },
    {
      "cell_type": "markdown",
      "metadata": {
        "id": "9649bf01-2e8a-45e5-8fca-441c13637b8f"
      },
      "source": [
        "Navbat ma'lumotlarni tozalash qismiga, keling avval datasetdan bir ma'lumotni ko'raylik"
      ]
    },
    {
      "cell_type": "code",
      "execution_count": null,
      "metadata": {
        "execution": {
          "iopub.execute_input": "2024-12-10T22:10:21.108593Z",
          "iopub.status.busy": "2024-12-10T22:10:21.108137Z",
          "iopub.status.idle": "2024-12-10T22:10:32.716766Z",
          "shell.execute_reply": "2024-12-10T22:10:32.715877Z",
          "shell.execute_reply.started": "2024-12-10T22:10:21.108564Z"
        },
        "id": "6e6b0ec5-0c94-4e2c-ae24-c791be1b2255",
        "outputId": "0b880878-12ed-4602-eb25-f81f2105b5b8",
        "trusted": true
      },
      "outputs": [
        {
          "name": "stdout",
          "output_type": "stream",
          "text": [
            "{'audio': {'path': '/root/.cache/huggingface/datasets/downloads/extracted/c65930f7f5ecf6f5e26df4ef01a9be39f15053e7c5c1b4f9e4a0eebb288d5d55/uz_validated_0/common_voice_uz_30061653.mp3', 'array': array([ 2.04281037e-14,  1.49213975e-13,  1.10134124e-13, ...,\n",
            "       -2.92761655e-07, -2.13421458e-07, -9.10449955e-08]), 'sampling_rate': 48000}, 'sentence': 'Xola, anuv shokoladingizdan obering, dedi chamasi etti yasharlar qiz bidirlab'}\n"
          ]
        }
      ],
      "source": [
        "print(common_voice[\"train\"][0])"
      ]
    },
    {
      "cell_type": "markdown",
      "metadata": {
        "id": "5a679f05-063d-41b3-9b58-4fc9c6ccf4fd"
      },
      "source": [
        "`cast_column` metodida foydalanamiz va audioning `sampling_rate`ini o'zgaritishimiz kerak, chunki whisper modeli 16 kHz ma'lumot uchun ishlay oladi"
      ]
    },
    {
      "cell_type": "code",
      "execution_count": null,
      "metadata": {
        "execution": {
          "iopub.execute_input": "2024-12-10T22:10:32.718369Z",
          "iopub.status.busy": "2024-12-10T22:10:32.717876Z",
          "iopub.status.idle": "2024-12-10T22:10:32.727494Z",
          "shell.execute_reply": "2024-12-10T22:10:32.726784Z",
          "shell.execute_reply.started": "2024-12-10T22:10:32.718340Z"
        },
        "id": "f12e2e57-156f-417b-8cfb-69221cc198e8",
        "trusted": true
      },
      "outputs": [],
      "source": [
        "from datasets import Audio\n",
        "\n",
        "common_voice = common_voice.cast_column(\"audio\", Audio(sampling_rate=16000))"
      ]
    },
    {
      "cell_type": "markdown",
      "metadata": {
        "id": "00382a3e-abec-4cdd-a54c-d1aaa3ea4707"
      },
      "source": [
        "Keling endi shu ma'lumotni qayta ko'ramiz"
      ]
    },
    {
      "cell_type": "code",
      "execution_count": null,
      "metadata": {
        "execution": {
          "iopub.execute_input": "2024-12-10T22:10:32.729236Z",
          "iopub.status.busy": "2024-12-10T22:10:32.728991Z",
          "iopub.status.idle": "2024-12-10T22:10:32.748721Z",
          "shell.execute_reply": "2024-12-10T22:10:32.747925Z",
          "shell.execute_reply.started": "2024-12-10T22:10:32.729211Z"
        },
        "trusted": true,
        "id": "hD1pZBtgAAM6",
        "outputId": "47397f5d-f246-465e-da70-3712cb29b891"
      },
      "outputs": [
        {
          "name": "stdout",
          "output_type": "stream",
          "text": [
            "{'audio': {'path': '/root/.cache/huggingface/datasets/downloads/extracted/c65930f7f5ecf6f5e26df4ef01a9be39f15053e7c5c1b4f9e4a0eebb288d5d55/uz_validated_0/common_voice_uz_30061653.mp3', 'array': array([-1.13686838e-13, -2.84217094e-13,  1.13686838e-12, ...,\n",
            "       -2.05199058e-08, -1.63471810e-07, -2.74593589e-07]), 'sampling_rate': 16000}, 'sentence': 'Xola, anuv shokoladingizdan obering, dedi chamasi etti yasharlar qiz bidirlab'}\n"
          ]
        }
      ],
      "source": [
        "print(common_voice[\"train\"][0])"
      ]
    },
    {
      "cell_type": "markdown",
      "metadata": {
        "id": "91edc72d-08f8-4f01-899d-74e65ce441fc"
      },
      "source": [
        "Model uchun ma'lumot tayyorlash:\n",
        "\n",
        "- Audio yuklanadi va qayta namuna olinadi.\n",
        "- Log-Mel spektrogram xususiyatlari olinadi.\n",
        "- Transkripsiyalar label IDlarga kodlanadi.\n",
        "\n",
        "\n",
        "\n",
        "\n",
        "\n"
      ]
    },
    {
      "cell_type": "code",
      "execution_count": null,
      "metadata": {
        "execution": {
          "iopub.execute_input": "2024-12-10T22:10:32.750570Z",
          "iopub.status.busy": "2024-12-10T22:10:32.749794Z",
          "iopub.status.idle": "2024-12-10T22:10:32.755496Z",
          "shell.execute_reply": "2024-12-10T22:10:32.754646Z",
          "shell.execute_reply.started": "2024-12-10T22:10:32.750535Z"
        },
        "id": "6525c478-8962-4394-a1c4-103c54cce170",
        "trusted": true
      },
      "outputs": [],
      "source": [
        "def prepare_dataset(batch):\n",
        "\n",
        "    audio = batch[\"audio\"]\n",
        "    batch[\"input_features\"] = feature_extractor(audio[\"array\"], sampling_rate=audio[\"sampling_rate\"]).input_features[0]\n",
        "    batch[\"labels\"] = tokenizer(batch[\"sentence\"]).input_ids\n",
        "\n",
        "    return batch"
      ]
    },
    {
      "cell_type": "markdown",
      "metadata": {
        "id": "V9snS03Qenmg"
      },
      "source": [
        "**Bizda `num_proc` parametri muhim parametr hisoblanadi ya'ni bu bizga multi-processing imkonini beradi. Uni to'g'ri tanlash uchun biz cpu yadrolari soni aniqlashimiz kerak va shunga teng bo'lgan qiymat tanlaymiz**"
      ]
    },
    {
      "cell_type": "code",
      "execution_count": null,
      "metadata": {
        "execution": {
          "iopub.execute_input": "2024-12-10T22:10:32.756725Z",
          "iopub.status.busy": "2024-12-10T22:10:32.756446Z",
          "iopub.status.idle": "2024-12-10T22:10:32.768565Z",
          "shell.execute_reply": "2024-12-10T22:10:32.767932Z",
          "shell.execute_reply.started": "2024-12-10T22:10:32.756699Z"
        },
        "id": "rXLJ5E4beO6C",
        "outputId": "618281b7-7df5-470b-8bca-78f10f3323de",
        "trusted": true
      },
      "outputs": [
        {
          "name": "stdout",
          "output_type": "stream",
          "text": [
            "4\n"
          ]
        }
      ],
      "source": [
        "import os\n",
        "print(os.cpu_count())"
      ]
    },
    {
      "cell_type": "markdown",
      "metadata": {
        "id": "70b319fb-2439-4ef6-a70d-a47bf41c4a13"
      },
      "source": [
        "`.map` metodi orqali ma'lumotni tayyorlaymiz.\n",
        "\n",
        "Jarayon biroz vaqt oladi"
      ]
    },
    {
      "cell_type": "code",
      "execution_count": null,
      "metadata": {
        "execution": {
          "iopub.execute_input": "2024-12-10T22:10:32.769834Z",
          "iopub.status.busy": "2024-12-10T22:10:32.769555Z",
          "iopub.status.idle": "2024-12-10T22:16:22.280652Z",
          "shell.execute_reply": "2024-12-10T22:16:22.279836Z",
          "shell.execute_reply.started": "2024-12-10T22:10:32.769808Z"
        },
        "id": "7b73ab39-ffaf-4b9e-86e5-782963c6134b",
        "outputId": "21bd00e8-ccde-4808-dd48-3eb694f76476",
        "trusted": true,
        "colab": {
          "referenced_widgets": [
            "c41a884a32ad459faf21ab3339f86987",
            "81f46b16e8af4203bdd51abd8fee7c0c"
          ]
        }
      },
      "outputs": [
        {
          "data": {
            "application/vnd.jupyter.widget-view+json": {
              "model_id": "c41a884a32ad459faf21ab3339f86987",
              "version_major": 2,
              "version_minor": 0
            },
            "text/plain": [
              "Map (num_proc=4):   0%|          | 0/21608 [00:00<?, ? examples/s]"
            ]
          },
          "metadata": {},
          "output_type": "display_data"
        },
        {
          "data": {
            "application/vnd.jupyter.widget-view+json": {
              "model_id": "81f46b16e8af4203bdd51abd8fee7c0c",
              "version_major": 2,
              "version_minor": 0
            },
            "text/plain": [
              "Map (num_proc=4):   0%|          | 0/1728 [00:00<?, ? examples/s]"
            ]
          },
          "metadata": {},
          "output_type": "display_data"
        }
      ],
      "source": [
        "common_voice = common_voice.map(prepare_dataset, remove_columns=common_voice.column_names[\"train\"], num_proc=4)"
      ]
    },
    {
      "cell_type": "markdown",
      "metadata": {
        "id": "263a5a58-0239-4a25-b0df-c625fc9c5810"
      },
      "source": [
        "## Training and Evaluation"
      ]
    },
    {
      "cell_type": "markdown",
      "metadata": {
        "id": "a693e768-c5a6-453f-89a1-b601dcf7daf7"
      },
      "source": [
        "Endi ma'lumot tayyorlandi, trening jarayoniga o'tamiz.\n",
        "Qadamlar:\n",
        "\n",
        "- **Pre-trained checkpoint yuklash**: modelni to'g'ri o'rnatish va treningga tayyorlash.\n",
        "- **Data collator aniqlash**: oldindan ishlov berilgan ma'lumotlarni PyTorch tensorga tayyorlash.\n",
        "- **Baholash metrikalari**: WER (word error rate) metrikasidan foydalanib, modelni baholash.\n",
        "- **Treaning konfiguratsiyasini belgilash**: Trainer uchun trening jadvalini aniqlash.\n",
        "Fine-tune qilingan modelni sinov ma'lumotlari ustida baholash"
      ]
    },
    {
      "cell_type": "markdown",
      "metadata": {
        "id": "daf2a825-6d9f-4a23-b145-c37c0039075b"
      },
      "source": [
        "# Load a Model"
      ]
    },
    {
      "cell_type": "markdown",
      "metadata": {
        "id": "437a97fa-4864-476b-8abc-f28b8166cfa5"
      },
      "source": [
        "Bu modelni qurishdan avval men `whisper-base` asosidagi modelni fine tune qilganman.\n",
        "\n",
        "[jamshidahmadov/whisper-uz](https://huggingface.co/jamshidahmadov/whisper-uz)\n",
        "\n",
        "Endi pre-trained modelni yana bir bor train qilamiz, albatta yangi ma'lumotlar uchun"
      ]
    },
    {
      "cell_type": "code",
      "execution_count": null,
      "metadata": {
        "execution": {
          "iopub.execute_input": "2024-12-10T22:16:22.282316Z",
          "iopub.status.busy": "2024-12-10T22:16:22.282059Z",
          "iopub.status.idle": "2024-12-10T22:16:33.439988Z",
          "shell.execute_reply": "2024-12-10T22:16:33.439048Z",
          "shell.execute_reply.started": "2024-12-10T22:16:22.282291Z"
        },
        "id": "5a10cc4b-07ec-4ebd-ac1d-7c601023594f",
        "outputId": "dba0bf7e-fda5-48ed-ab20-b37299e9bc7b",
        "trusted": true,
        "colab": {
          "referenced_widgets": [
            "4e5aa320a82b47fca3066bc605a5bee1",
            "834ccafc18854c09b8b098fd1d4479fb",
            "a640a6dea009440b9c98a8d02d02678b"
          ]
        }
      },
      "outputs": [
        {
          "data": {
            "application/vnd.jupyter.widget-view+json": {
              "model_id": "4e5aa320a82b47fca3066bc605a5bee1",
              "version_major": 2,
              "version_minor": 0
            },
            "text/plain": [
              "config.json:   0%|          | 0.00/1.37k [00:00<?, ?B/s]"
            ]
          },
          "metadata": {},
          "output_type": "display_data"
        },
        {
          "data": {
            "application/vnd.jupyter.widget-view+json": {
              "model_id": "834ccafc18854c09b8b098fd1d4479fb",
              "version_major": 2,
              "version_minor": 0
            },
            "text/plain": [
              "model.safetensors:   0%|          | 0.00/290M [00:00<?, ?B/s]"
            ]
          },
          "metadata": {},
          "output_type": "display_data"
        },
        {
          "data": {
            "application/vnd.jupyter.widget-view+json": {
              "model_id": "a640a6dea009440b9c98a8d02d02678b",
              "version_major": 2,
              "version_minor": 0
            },
            "text/plain": [
              "generation_config.json:   0%|          | 0.00/3.75k [00:00<?, ?B/s]"
            ]
          },
          "metadata": {},
          "output_type": "display_data"
        }
      ],
      "source": [
        "from transformers import WhisperForConditionalGeneration\n",
        "\n",
        "model = WhisperForConditionalGeneration.from_pretrained(\"jamshidahmadov/whisper-uz\")"
      ]
    },
    {
      "cell_type": "markdown",
      "metadata": {
        "id": "a15ead5f-2277-4a39-937b-585c2497b2df"
      },
      "source": [
        "Inference paytida modelni faqat O'zbek tilida ishlashga moslashtirish uchun automatic speech recognationni o'chiramiz.\n",
        "\n",
        "\n",
        "\n",
        "---\n",
        "\n",
        "\n",
        "**Inference — bu modelni o'qitishdan so'ng, yangi ma'lumotlar bilan test qilish yoki undan natija olish jarayonidir. Masalan, modelni treningdan so'ng, unga audio yoki matn kiritib, modeldan javob olish (masalan, nutqni matnga aylantirish) inference deb ataladi.**"
      ]
    },
    {
      "cell_type": "code",
      "execution_count": null,
      "metadata": {
        "execution": {
          "iopub.execute_input": "2024-12-10T22:16:33.442265Z",
          "iopub.status.busy": "2024-12-10T22:16:33.441402Z",
          "iopub.status.idle": "2024-12-10T22:16:33.447380Z",
          "shell.execute_reply": "2024-12-10T22:16:33.446531Z",
          "shell.execute_reply.started": "2024-12-10T22:16:33.442220Z"
        },
        "id": "62038ba3-88ed-4fce-84db-338f50dcd04f",
        "trusted": true
      },
      "outputs": [],
      "source": [
        "model.generation_config.language = \"uzbek\"\n",
        "model.generation_config.task = \"transcribe\"\n",
        "\n",
        "model.generation_config.forced_decoder_ids = None"
      ]
    },
    {
      "cell_type": "markdown",
      "metadata": {
        "id": "8d230e6d-624c-400a-bbf5-fa660881df25"
      },
      "source": [
        "### Define a Data Collator"
      ]
    },
    {
      "cell_type": "markdown",
      "metadata": {
        "id": "04def221-0637-4a69-b242-d3f0c1d0ee78"
      },
      "source": [
        "Data collator `input_features` va `labels`ni alohida ishlaydi. `input_features`ni `feature extractor` bilan, `labels`ni esa `tokenizer` bilan qayta ishlaymiz."
      ]
    },
    {
      "cell_type": "code",
      "execution_count": null,
      "metadata": {
        "execution": {
          "iopub.execute_input": "2024-12-10T22:16:33.450092Z",
          "iopub.status.busy": "2024-12-10T22:16:33.449831Z",
          "iopub.status.idle": "2024-12-10T22:16:33.462396Z",
          "shell.execute_reply": "2024-12-10T22:16:33.461514Z",
          "shell.execute_reply.started": "2024-12-10T22:16:33.450067Z"
        },
        "id": "8326221e-ec13-4731-bb4e-51e5fc1486c5",
        "trusted": true
      },
      "outputs": [],
      "source": [
        "import torch\n",
        "\n",
        "from dataclasses import dataclass\n",
        "from typing import Any, Dict, List, Union\n",
        "\n",
        "@dataclass\n",
        "class DataCollatorSpeechSeq2SeqWithPadding:\n",
        "    processor: Any\n",
        "    decoder_start_token_id: int\n",
        "\n",
        "    def __call__(self, features: List[Dict[str, Union[List[int], torch.Tensor]]]) -> Dict[str, torch.Tensor]:\n",
        "        # split inputs and labels since they have to be of different lengths and need different padding methods\n",
        "        # first treat the audio inputs by simply returning torch tensors\n",
        "        input_features = [{\"input_features\": feature[\"input_features\"]} for feature in features]\n",
        "        batch = self.processor.feature_extractor.pad(input_features, return_tensors=\"pt\")\n",
        "\n",
        "        # get the tokenized label sequences\n",
        "        label_features = [{\"input_ids\": feature[\"labels\"]} for feature in features]\n",
        "        # pad the labels to max length\n",
        "        labels_batch = self.processor.tokenizer.pad(label_features, return_tensors=\"pt\")\n",
        "\n",
        "        # replace padding with -100 to ignore loss correctly\n",
        "        labels = labels_batch[\"input_ids\"].masked_fill(labels_batch.attention_mask.ne(1), -100)\n",
        "\n",
        "        # if bos token is appended in previous tokenization step,\n",
        "        # cut bos token here as it's append later anyways\n",
        "        if (labels[:, 0] == self.decoder_start_token_id).all().cpu().item():\n",
        "            labels = labels[:, 1:]\n",
        "\n",
        "        batch[\"labels\"] = labels\n",
        "\n",
        "        return batch"
      ]
    },
    {
      "cell_type": "code",
      "execution_count": null,
      "metadata": {
        "execution": {
          "iopub.execute_input": "2024-12-10T22:16:33.463840Z",
          "iopub.status.busy": "2024-12-10T22:16:33.463539Z",
          "iopub.status.idle": "2024-12-10T22:16:33.475589Z",
          "shell.execute_reply": "2024-12-10T22:16:33.474832Z",
          "shell.execute_reply.started": "2024-12-10T22:16:33.463814Z"
        },
        "id": "fc834702-c0d3-4a96-b101-7b87be32bf42",
        "trusted": true
      },
      "outputs": [],
      "source": [
        "data_collator = DataCollatorSpeechSeq2SeqWithPadding(\n",
        "    processor=processor,\n",
        "    decoder_start_token_id=model.config.decoder_start_token_id,\n",
        ")"
      ]
    },
    {
      "cell_type": "markdown",
      "metadata": {
        "id": "d62bb2ab-750a-45e7-82e9-61d6f4805698"
      },
      "source": [
        "### Evaluation Metrics"
      ]
    },
    {
      "cell_type": "markdown",
      "metadata": {
        "id": "66fee1a7-a44c-461e-b047-c3917221572e"
      },
      "source": [
        "Modelni baholash uchun standart bo'lib hisoblangan `word error rate (WER)`dan foydalanamiz"
      ]
    },
    {
      "cell_type": "code",
      "execution_count": null,
      "metadata": {
        "execution": {
          "iopub.execute_input": "2024-12-10T22:16:33.476894Z",
          "iopub.status.busy": "2024-12-10T22:16:33.476636Z",
          "iopub.status.idle": "2024-12-10T22:16:34.395473Z",
          "shell.execute_reply": "2024-12-10T22:16:34.394754Z",
          "shell.execute_reply.started": "2024-12-10T22:16:33.476869Z"
        },
        "id": "b22b4011-f31f-4b57-b684-c52332f92890",
        "outputId": "e059658e-32fc-4e0e-dde9-2eef7ad89df2",
        "trusted": true,
        "colab": {
          "referenced_widgets": [
            "4be588ddce754981b0bfe08ea1b76f3e"
          ]
        }
      },
      "outputs": [
        {
          "data": {
            "application/vnd.jupyter.widget-view+json": {
              "model_id": "4be588ddce754981b0bfe08ea1b76f3e",
              "version_major": 2,
              "version_minor": 0
            },
            "text/plain": [
              "Downloading builder script:   0%|          | 0.00/4.49k [00:00<?, ?B/s]"
            ]
          },
          "metadata": {},
          "output_type": "display_data"
        }
      ],
      "source": [
        "import evaluate\n",
        "\n",
        "metric = evaluate.load(\"wer\")"
      ]
    },
    {
      "cell_type": "markdown",
      "metadata": {
        "id": "4f32cab6-31f0-4cb9-af4c-40ba0f5fc508"
      },
      "source": [
        "`compute_metrics` funksiyasi -100ni `pad_token_id`ga almashtirib, `predict` va `label` IDlarini matnga decoding qiladi va WERni hisoblaydi."
      ]
    },
    {
      "cell_type": "code",
      "execution_count": null,
      "metadata": {
        "execution": {
          "iopub.execute_input": "2024-12-10T22:16:34.397006Z",
          "iopub.status.busy": "2024-12-10T22:16:34.396651Z",
          "iopub.status.idle": "2024-12-10T22:16:34.402057Z",
          "shell.execute_reply": "2024-12-10T22:16:34.401135Z",
          "shell.execute_reply.started": "2024-12-10T22:16:34.396965Z"
        },
        "id": "23959a70-22d0-4ffe-9fa1-72b61e75bb52",
        "trusted": true
      },
      "outputs": [],
      "source": [
        "def compute_metrics(pred):\n",
        "    pred_ids = pred.predictions\n",
        "    label_ids = pred.label_ids\n",
        "\n",
        "    label_ids[label_ids == -100] = tokenizer.pad_token_id\n",
        "\n",
        "    pred_str = tokenizer.batch_decode(pred_ids, skip_special_tokens=True)\n",
        "    label_str = tokenizer.batch_decode(label_ids, skip_special_tokens=True)\n",
        "\n",
        "    wer = 100 * metric.compute(predictions=pred_str, references=label_str)\n",
        "\n",
        "    return {\"wer\": wer}"
      ]
    },
    {
      "cell_type": "markdown",
      "metadata": {
        "id": "2178dea4-80ca-47b6-b6ea-ba1915c90c06"
      },
      "source": [
        "### Define the Training Configuration"
      ]
    },
    {
      "cell_type": "markdown",
      "metadata": {
        "id": "c21af1e9-0188-4134-ac82-defc7bdcc436"
      },
      "source": [
        "Oxirgi qadam: Treaning uchun kerakli parametrlarni yozamiz"
      ]
    },
    {
      "cell_type": "code",
      "execution_count": null,
      "metadata": {
        "execution": {
          "iopub.execute_input": "2024-12-10T22:23:48.012924Z",
          "iopub.status.busy": "2024-12-10T22:23:48.012210Z",
          "iopub.status.idle": "2024-12-10T22:23:48.042712Z",
          "shell.execute_reply": "2024-12-10T22:23:48.041667Z",
          "shell.execute_reply.started": "2024-12-10T22:23:48.012887Z"
        },
        "id": "0ae3e9af-97b7-4aa0-ae85-20b23b5bcb3a",
        "outputId": "518e6abf-7ef3-4d61-b76b-653d8e3f17ce",
        "trusted": true
      },
      "outputs": [
        {
          "name": "stderr",
          "output_type": "stream",
          "text": [
            "/opt/conda/lib/python3.10/site-packages/transformers/training_args.py:1575: FutureWarning: `evaluation_strategy` is deprecated and will be removed in version 4.46 of 🤗 Transformers. Use `eval_strategy` instead\n",
            "  warnings.warn(\n"
          ]
        }
      ],
      "source": [
        "from transformers import Seq2SeqTrainingArguments\n",
        "\n",
        "training_args = Seq2SeqTrainingArguments(\n",
        "    output_dir=\"./whisper-uz-v2\",\n",
        "    per_device_train_batch_size=8,\n",
        "    gradient_accumulation_steps=2,\n",
        "    learning_rate=1e-5,\n",
        "    warmup_steps=500,\n",
        "    max_steps=3000,\n",
        "    gradient_checkpointing=True,\n",
        "    fp16=True,\n",
        "    evaluation_strategy=\"steps\",\n",
        "    per_device_eval_batch_size=8,\n",
        "    predict_with_generate=True,\n",
        "    generation_max_length=225,\n",
        "    save_steps=1000,\n",
        "    eval_steps=1000,\n",
        "    logging_steps=25,\n",
        "    report_to=[\"tensorboard\"],\n",
        "    load_best_model_at_end=True,\n",
        "    metric_for_best_model=\"wer\",\n",
        "    greater_is_better=False,\n",
        "    push_to_hub=True,\n",
        ")"
      ]
    },
    {
      "cell_type": "markdown",
      "metadata": {
        "id": "bac29114-d226-4f54-97cf-8718c9f94e1e"
      },
      "source": [
        "Treaning argumentlarini trainerga, `model`, `dataset`, `data collator` va `compute_metrics` funksiyasi bilan birga uzatamiz:"
      ]
    },
    {
      "cell_type": "code",
      "execution_count": null,
      "metadata": {
        "_kg_hide-output": false,
        "execution": {
          "iopub.execute_input": "2024-12-10T22:23:49.154752Z",
          "iopub.status.busy": "2024-12-10T22:23:49.154136Z",
          "iopub.status.idle": "2024-12-10T22:23:49.303364Z",
          "shell.execute_reply": "2024-12-10T22:23:49.302392Z",
          "shell.execute_reply.started": "2024-12-10T22:23:49.154716Z"
        },
        "id": "d546d7fe-0543-479a-b708-2ebabec19493",
        "outputId": "5b592c20-083c-4e52-e3a9-74aee04fb585",
        "trusted": true
      },
      "outputs": [
        {
          "name": "stderr",
          "output_type": "stream",
          "text": [
            "/tmp/ipykernel_23/240849381.py:3: FutureWarning: `tokenizer` is deprecated and will be removed in version 5.0.0 for `Seq2SeqTrainer.__init__`. Use `processing_class` instead.\n",
            "  trainer = Seq2SeqTrainer(\n"
          ]
        }
      ],
      "source": [
        "from transformers import Seq2SeqTrainer\n",
        "\n",
        "trainer = Seq2SeqTrainer(\n",
        "    args=training_args,\n",
        "    model=model,\n",
        "    train_dataset=common_voice[\"train\"],\n",
        "    eval_dataset=common_voice[\"test\"],\n",
        "    data_collator=data_collator,\n",
        "    compute_metrics=compute_metrics,\n",
        "    tokenizer=processor.feature_extractor,\n",
        ")"
      ]
    },
    {
      "cell_type": "code",
      "execution_count": null,
      "metadata": {
        "execution": {
          "iopub.execute_input": "2024-12-10T22:23:49.586907Z",
          "iopub.status.busy": "2024-12-10T22:23:49.586503Z",
          "iopub.status.idle": "2024-12-10T22:23:49.633097Z",
          "shell.execute_reply": "2024-12-10T22:23:49.631839Z",
          "shell.execute_reply.started": "2024-12-10T22:23:49.586876Z"
        },
        "trusted": true,
        "id": "Y690i9V7AAM_"
      },
      "outputs": [],
      "source": [
        "import torch\n",
        "torch.cuda.empty_cache()"
      ]
    },
    {
      "cell_type": "markdown",
      "metadata": {
        "id": "uOrRhDGtN5S4"
      },
      "source": [
        "Treningni boshlashdan oldin, processor obyektini saqlab olish maslahat beriladi. U training jarayonida o'zgarmaydi"
      ]
    },
    {
      "cell_type": "code",
      "execution_count": null,
      "metadata": {
        "execution": {
          "iopub.execute_input": "2024-12-10T22:23:50.446630Z",
          "iopub.status.busy": "2024-12-10T22:23:50.445973Z",
          "iopub.status.idle": "2024-12-10T22:23:50.861871Z",
          "shell.execute_reply": "2024-12-10T22:23:50.860993Z",
          "shell.execute_reply.started": "2024-12-10T22:23:50.446567Z"
        },
        "id": "-2zQwMfEOBJq",
        "outputId": "2a626aa6-bf17-4553-94c9-c122a3940d7e",
        "trusted": true
      },
      "outputs": [
        {
          "data": {
            "text/plain": [
              "[]"
            ]
          },
          "execution_count": 33,
          "metadata": {},
          "output_type": "execute_result"
        }
      ],
      "source": [
        "processor.save_pretrained(training_args.output_dir)"
      ]
    },
    {
      "cell_type": "markdown",
      "metadata": {
        "id": "7f404cf9-4345-468c-8196-4bd101d9bd51"
      },
      "source": [
        "### Training"
      ]
    },
    {
      "cell_type": "markdown",
      "metadata": {
        "id": "5a55168b-2f46-4678-afa0-ff22257ec06d"
      },
      "source": [
        "**Training jarayoniga ham yetib keldik. Modelni train qilamiz...**"
      ]
    },
    {
      "cell_type": "code",
      "execution_count": null,
      "metadata": {
        "id": "ee8b7b8e-1c9a-4d77-9137-1778a629e6de",
        "trusted": true
      },
      "outputs": [],
      "source": [
        "trainer.train()"
      ]
    },
    {
      "cell_type": "markdown",
      "metadata": {
        "id": "810ced54-7187-4a06-b2fe-ba6dcca94dc3"
      },
      "source": [
        "Wer ~ 30 natijasiga ega bo'ldik.\n",
        "Ko'proq resurslar va datasetning kattaroq qismidan foydalanish orqali bu natijani oshira olamiz"
      ]
    },
    {
      "cell_type": "markdown",
      "metadata": {
        "id": "lF6SXn7TAANA"
      },
      "source": [
        "Endi modelni huggingfacega yuklaymiz"
      ]
    },
    {
      "cell_type": "code",
      "execution_count": null,
      "metadata": {
        "execution": {
          "iopub.execute_input": "2024-12-11T01:38:09.726766Z",
          "iopub.status.busy": "2024-12-11T01:38:09.726361Z",
          "iopub.status.idle": "2024-12-11T01:38:09.733331Z",
          "shell.execute_reply": "2024-12-11T01:38:09.732655Z",
          "shell.execute_reply.started": "2024-12-11T01:38:09.726732Z"
        },
        "id": "c704f91e-241b-48c9-b8e0-f0da396a9663",
        "trusted": true
      },
      "outputs": [],
      "source": [
        "kwargs = {\n",
        "    \"dataset_tags\": \"mozilla-foundation/common_voice_17_0\",\n",
        "    \"dataset\": \"Common Voice 17.0\",\n",
        "    \"dataset_args\": \"config: uz, split: test\",\n",
        "    \"language\": \"uz\",\n",
        "    \"model_name\": \"Whisper base uz V2 - Jamshid Ahmadov\",\n",
        "    \"finetuned_from\": \"jamshidahmadov/whisper-uz\",\n",
        "    \"tasks\": \"automatic-speech-recognition\",\n",
        "}"
      ]
    },
    {
      "cell_type": "markdown",
      "metadata": {
        "id": "090d676a-f944-4297-a938-a40eda0b2b68"
      },
      "source": [
        " `push_to_hub` buyrug'idan foydalanamiz:"
      ]
    },
    {
      "cell_type": "code",
      "execution_count": null,
      "metadata": {
        "execution": {
          "iopub.execute_input": "2024-12-11T01:39:39.441945Z",
          "iopub.status.busy": "2024-12-11T01:39:39.441506Z",
          "iopub.status.idle": "2024-12-11T01:39:55.929496Z",
          "shell.execute_reply": "2024-12-11T01:39:55.928684Z",
          "shell.execute_reply.started": "2024-12-11T01:39:39.441893Z"
        },
        "id": "d7030622-caf7-4039-939b-6195cdaa2585",
        "trusted": true,
        "colab": {
          "referenced_widgets": [
            "6cf8ee0394c0462a8a27bac6888947a0",
            "bf085de06c5c41fb987a4e93c31e545d",
            "442b918508d041118117405289c971d6",
            "a86fc5d101d246e2b5c9fd89cea62fa8",
            "eb8d6c3080aa40719c32b146e0b5b63a"
          ]
        },
        "outputId": "628842c2-2362-4952-d29a-42f6d72ca46e"
      },
      "outputs": [
        {
          "data": {
            "application/vnd.jupyter.widget-view+json": {
              "model_id": "6cf8ee0394c0462a8a27bac6888947a0",
              "version_major": 2,
              "version_minor": 0
            },
            "text/plain": [
              "Upload 4 LFS files:   0%|          | 0/4 [00:00<?, ?it/s]"
            ]
          },
          "metadata": {},
          "output_type": "display_data"
        },
        {
          "data": {
            "application/vnd.jupyter.widget-view+json": {
              "model_id": "bf085de06c5c41fb987a4e93c31e545d",
              "version_major": 2,
              "version_minor": 0
            },
            "text/plain": [
              "events.out.tfevents.1733869048.83e89f1d4b72.23.0:   0%|          | 0.00/6.76k [00:00<?, ?B/s]"
            ]
          },
          "metadata": {},
          "output_type": "display_data"
        },
        {
          "data": {
            "application/vnd.jupyter.widget-view+json": {
              "model_id": "442b918508d041118117405289c971d6",
              "version_major": 2,
              "version_minor": 0
            },
            "text/plain": [
              "events.out.tfevents.1733869432.83e89f1d4b72.23.1:   0%|          | 0.00/32.5k [00:00<?, ?B/s]"
            ]
          },
          "metadata": {},
          "output_type": "display_data"
        },
        {
          "data": {
            "application/vnd.jupyter.widget-view+json": {
              "model_id": "a86fc5d101d246e2b5c9fd89cea62fa8",
              "version_major": 2,
              "version_minor": 0
            },
            "text/plain": [
              "model.safetensors:   0%|          | 0.00/290M [00:00<?, ?B/s]"
            ]
          },
          "metadata": {},
          "output_type": "display_data"
        },
        {
          "data": {
            "application/vnd.jupyter.widget-view+json": {
              "model_id": "eb8d6c3080aa40719c32b146e0b5b63a",
              "version_major": 2,
              "version_minor": 0
            },
            "text/plain": [
              "training_args.bin:   0%|          | 0.00/5.50k [00:00<?, ?B/s]"
            ]
          },
          "metadata": {},
          "output_type": "display_data"
        },
        {
          "data": {
            "text/plain": [
              "CommitInfo(commit_url='https://huggingface.co/jamshidahmadov/whisper-uz-v2/commit/34f499c8889994e76b1bf8fc882dde283bc237c0', commit_message='End of training', commit_description='', oid='34f499c8889994e76b1bf8fc882dde283bc237c0', pr_url=None, repo_url=RepoUrl('https://huggingface.co/jamshidahmadov/whisper-uz-v2', endpoint='https://huggingface.co', repo_type='model', repo_id='jamshidahmadov/whisper-uz-v2'), pr_revision=None, pr_num=None)"
            ]
          },
          "execution_count": 37,
          "metadata": {},
          "output_type": "execute_result"
        }
      ],
      "source": [
        "trainer.push_to_hub(**kwargs)"
      ]
    },
    {
      "cell_type": "markdown",
      "metadata": {
        "id": "e65489b7-18d1-447c-ba69-cd28dd80dad9"
      },
      "source": [
        "STT Model tayyor"
      ]
    }
  ],
  "metadata": {
    "accelerator": "GPU",
    "colab": {
      "gpuType": "T4",
      "provenance": []
    },
    "kaggle": {
      "accelerator": "gpu",
      "dataSources": [],
      "dockerImageVersionId": 30805,
      "isGpuEnabled": true,
      "isInternetEnabled": true,
      "language": "python",
      "sourceType": "notebook"
    },
    "kernelspec": {
      "display_name": "Python 3",
      "language": "python",
      "name": "python3"
    },
    "language_info": {
      "codemirror_mode": {
        "name": "ipython",
        "version": 3
      },
      "file_extension": ".py",
      "mimetype": "text/x-python",
      "name": "python",
      "nbconvert_exporter": "python",
      "pygments_lexer": "ipython3",
      "version": "3.10.14"
    },
    "widgets": {
      "application/vnd.jupyter.widget-state+json": {}
    }
  },
  "nbformat": 4,
  "nbformat_minor": 0
}